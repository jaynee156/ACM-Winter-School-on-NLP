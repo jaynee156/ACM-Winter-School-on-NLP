{
  "nbformat": 4,
  "nbformat_minor": 0,
  "metadata": {
    "colab": {
      "name": "335_Machine_Translation_Assignment.ipynb",
      "provenance": [],
      "collapsed_sections": []
    },
    "kernelspec": {
      "name": "python3",
      "display_name": "Python 3"
    }
  },
  "cells": [
    {
      "cell_type": "markdown",
      "metadata": {
        "id": "bHAD5GS7Voex"
      },
      "source": [
        "# **Spanish English Translation using LSTM**"
      ]
    },
    {
      "cell_type": "markdown",
      "metadata": {
        "id": "i4hn-ZDTTcGk"
      },
      "source": [
        "Data Source : http://www.manythings.org/anki/"
      ]
    },
    {
      "cell_type": "markdown",
      "metadata": {
        "id": "FqtUfHTMVxaU"
      },
      "source": [
        "Parallel sentences : 50000"
      ]
    },
    {
      "cell_type": "markdown",
      "metadata": {
        "id": "CD08-qTSzLkL"
      },
      "source": [
        "# **Importing Necessory Libraries**"
      ]
    },
    {
      "cell_type": "code",
      "metadata": {
        "id": "ixdI3aN4_Ua1"
      },
      "source": [
        "import numpy as np\r\n",
        "import pandas as pd\r\n",
        "import tensorflow as tf\r\n",
        "from keras.models import Sequential\r\n",
        "from keras.layers import Dense, LSTM, Embedding, RepeatVector\r\n",
        "from keras.preprocessing.text import Tokenizer\r\n",
        "from keras.callbacks import ModelCheckpoint\r\n",
        "from keras.preprocessing.sequence import pad_sequences\r\n",
        "from keras.models import load_model\r\n",
        "from keras import optimizers\r\n",
        "import matplotlib.pyplot as plt\r\n",
        "%matplotlib inline\r\n",
        "pd.set_option('display.max_colwidth', 200)\r\n",
        "tf.compat.v1.logging.set_verbosity(tf.compat.v1.logging.ERROR)"
      ],
      "execution_count": null,
      "outputs": []
    },
    {
      "cell_type": "markdown",
      "metadata": {
        "id": "LWZToCQHzTSh"
      },
      "source": [
        "# **Loading Data file(s)**"
      ]
    },
    {
      "cell_type": "code",
      "metadata": {
        "colab": {
          "resources": {
            "http://localhost:8080/nbextensions/google.colab/files.js": {
              "data": "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",
              "ok": true,
              "headers": [
                [
                  "content-type",
                  "application/javascript"
                ]
              ],
              "status": 200,
              "status_text": ""
            }
          },
          "base_uri": "https://localhost:8080/",
          "height": 72
        },
        "id": "mQQ2WGwNWceI",
        "outputId": "73d18257-7667-4d09-a214-3dab56d6c35b"
      },
      "source": [
        "from google.colab import files \r\n",
        "  \r\n",
        "  \r\n",
        "uploaded = files.upload()"
      ],
      "execution_count": null,
      "outputs": [
        {
          "output_type": "display_data",
          "data": {
            "text/html": [
              "\n",
              "     <input type=\"file\" id=\"files-6e83908c-1f2d-497b-a7f1-b26230c707dc\" name=\"files[]\" multiple disabled\n",
              "        style=\"border:none\" />\n",
              "     <output id=\"result-6e83908c-1f2d-497b-a7f1-b26230c707dc\">\n",
              "      Upload widget is only available when the cell has been executed in the\n",
              "      current browser session. Please rerun this cell to enable.\n",
              "      </output>\n",
              "      <script src=\"/nbextensions/google.colab/files.js\"></script> "
            ],
            "text/plain": [
              "<IPython.core.display.HTML object>"
            ]
          },
          "metadata": {
            "tags": []
          }
        },
        {
          "output_type": "stream",
          "text": [
            "Saving hin.txt to hin.txt\n"
          ],
          "name": "stdout"
        }
      ]
    },
    {
      "cell_type": "code",
      "metadata": {
        "colab": {
          "base_uri": "https://localhost:8080/",
          "height": 204
        },
        "id": "6UXc-ZoKWvHN",
        "outputId": "95400b63-06e4-4a0d-c3da-64eab2d2e7c8"
      },
      "source": [
        "import io \r\n",
        "df=pd.read_csv('hin.txt', sep='\\t' , header= None)\r\n",
        "df.head()"
      ],
      "execution_count": null,
      "outputs": [
        {
          "output_type": "execute_result",
          "data": {
            "text/html": [
              "<div>\n",
              "<style scoped>\n",
              "    .dataframe tbody tr th:only-of-type {\n",
              "        vertical-align: middle;\n",
              "    }\n",
              "\n",
              "    .dataframe tbody tr th {\n",
              "        vertical-align: top;\n",
              "    }\n",
              "\n",
              "    .dataframe thead th {\n",
              "        text-align: right;\n",
              "    }\n",
              "</style>\n",
              "<table border=\"1\" class=\"dataframe\">\n",
              "  <thead>\n",
              "    <tr style=\"text-align: right;\">\n",
              "      <th></th>\n",
              "      <th>0</th>\n",
              "      <th>1</th>\n",
              "      <th>2</th>\n",
              "    </tr>\n",
              "  </thead>\n",
              "  <tbody>\n",
              "    <tr>\n",
              "      <th>0</th>\n",
              "      <td>Wow!</td>\n",
              "      <td>वाह!</td>\n",
              "      <td>CC-BY 2.0 (France) Attribution: tatoeba.org #52027 (Zifre) &amp; #6179147 (fastrizwaan)</td>\n",
              "    </tr>\n",
              "    <tr>\n",
              "      <th>1</th>\n",
              "      <td>Help!</td>\n",
              "      <td>बचाओ!</td>\n",
              "      <td>CC-BY 2.0 (France) Attribution: tatoeba.org #435084 (lukaszpp) &amp; #459377 (minshirui)</td>\n",
              "    </tr>\n",
              "    <tr>\n",
              "      <th>2</th>\n",
              "      <td>Jump.</td>\n",
              "      <td>उछलो.</td>\n",
              "      <td>CC-BY 2.0 (France) Attribution: tatoeba.org #631038 (Shishir) &amp; #6179121 (fastrizwaan)</td>\n",
              "    </tr>\n",
              "    <tr>\n",
              "      <th>3</th>\n",
              "      <td>Jump.</td>\n",
              "      <td>कूदो.</td>\n",
              "      <td>CC-BY 2.0 (France) Attribution: tatoeba.org #631038 (Shishir) &amp; #6179122 (fastrizwaan)</td>\n",
              "    </tr>\n",
              "    <tr>\n",
              "      <th>4</th>\n",
              "      <td>Jump.</td>\n",
              "      <td>छलांग.</td>\n",
              "      <td>CC-BY 2.0 (France) Attribution: tatoeba.org #631038 (Shishir) &amp; #6179123 (fastrizwaan)</td>\n",
              "    </tr>\n",
              "  </tbody>\n",
              "</table>\n",
              "</div>"
            ],
            "text/plain": [
              "       0  ...                                                                                       2\n",
              "0   Wow!  ...     CC-BY 2.0 (France) Attribution: tatoeba.org #52027 (Zifre) & #6179147 (fastrizwaan)\n",
              "1  Help!  ...    CC-BY 2.0 (France) Attribution: tatoeba.org #435084 (lukaszpp) & #459377 (minshirui)\n",
              "2  Jump.  ...  CC-BY 2.0 (France) Attribution: tatoeba.org #631038 (Shishir) & #6179121 (fastrizwaan)\n",
              "3  Jump.  ...  CC-BY 2.0 (France) Attribution: tatoeba.org #631038 (Shishir) & #6179122 (fastrizwaan)\n",
              "4  Jump.  ...  CC-BY 2.0 (France) Attribution: tatoeba.org #631038 (Shishir) & #6179123 (fastrizwaan)\n",
              "\n",
              "[5 rows x 3 columns]"
            ]
          },
          "metadata": {
            "tags": []
          },
          "execution_count": 5
        }
      ]
    },
    {
      "cell_type": "code",
      "metadata": {
        "id": "y5VIdFEzWvDv"
      },
      "source": [
        "df=df[[0 , 1]]"
      ],
      "execution_count": null,
      "outputs": []
    },
    {
      "cell_type": "code",
      "metadata": {
        "colab": {
          "base_uri": "https://localhost:8080/",
          "height": 204
        },
        "id": "3GXLh_voZHGU",
        "outputId": "be51c7ce-88d9-4318-8f36-bed37b0e81fb"
      },
      "source": [
        "df.head()"
      ],
      "execution_count": null,
      "outputs": [
        {
          "output_type": "execute_result",
          "data": {
            "text/html": [
              "<div>\n",
              "<style scoped>\n",
              "    .dataframe tbody tr th:only-of-type {\n",
              "        vertical-align: middle;\n",
              "    }\n",
              "\n",
              "    .dataframe tbody tr th {\n",
              "        vertical-align: top;\n",
              "    }\n",
              "\n",
              "    .dataframe thead th {\n",
              "        text-align: right;\n",
              "    }\n",
              "</style>\n",
              "<table border=\"1\" class=\"dataframe\">\n",
              "  <thead>\n",
              "    <tr style=\"text-align: right;\">\n",
              "      <th></th>\n",
              "      <th>0</th>\n",
              "      <th>1</th>\n",
              "    </tr>\n",
              "  </thead>\n",
              "  <tbody>\n",
              "    <tr>\n",
              "      <th>0</th>\n",
              "      <td>Wow!</td>\n",
              "      <td>वाह!</td>\n",
              "    </tr>\n",
              "    <tr>\n",
              "      <th>1</th>\n",
              "      <td>Help!</td>\n",
              "      <td>बचाओ!</td>\n",
              "    </tr>\n",
              "    <tr>\n",
              "      <th>2</th>\n",
              "      <td>Jump.</td>\n",
              "      <td>उछलो.</td>\n",
              "    </tr>\n",
              "    <tr>\n",
              "      <th>3</th>\n",
              "      <td>Jump.</td>\n",
              "      <td>कूदो.</td>\n",
              "    </tr>\n",
              "    <tr>\n",
              "      <th>4</th>\n",
              "      <td>Jump.</td>\n",
              "      <td>छलांग.</td>\n",
              "    </tr>\n",
              "  </tbody>\n",
              "</table>\n",
              "</div>"
            ],
            "text/plain": [
              "       0       1\n",
              "0   Wow!    वाह!\n",
              "1  Help!   बचाओ!\n",
              "2  Jump.   उछलो.\n",
              "3  Jump.   कूदो.\n",
              "4  Jump.  छलांग."
            ]
          },
          "metadata": {
            "tags": []
          },
          "execution_count": 8
        }
      ]
    },
    {
      "cell_type": "code",
      "metadata": {
        "colab": {
          "base_uri": "https://localhost:8080/"
        },
        "id": "ErufmBzpZZ9Y",
        "outputId": "253db7f2-e386-444a-f328-94517dac3e71"
      },
      "source": [
        "len(df)"
      ],
      "execution_count": null,
      "outputs": [
        {
          "output_type": "execute_result",
          "data": {
            "text/plain": [
              "2923"
            ]
          },
          "metadata": {
            "tags": []
          },
          "execution_count": 9
        }
      ]
    },
    {
      "cell_type": "markdown",
      "metadata": {
        "id": "A-nTu95zzahZ"
      },
      "source": [
        "# **Spliting Text to Sentences**"
      ]
    },
    {
      "cell_type": "code",
      "metadata": {
        "id": "QYDm_WBevAHj"
      },
      "source": [
        "# split using '\\n' or newline character\r\n",
        "sentences = text.strip().split('\\n')\r\n",
        "    \r\n",
        "# split between english and spanish\r\n",
        "spanish_english = [i.split('\\t')[:2] for i in sentences]\r\n",
        "\r\n",
        "# list to numpy array\r\n",
        "spanish_english = np.array(spanish_english)"
      ],
      "execution_count": null,
      "outputs": []
    },
    {
      "cell_type": "markdown",
      "metadata": {
        "id": "3lbyIXwvXB0y"
      },
      "source": [
        "## Parallel data"
      ]
    },
    {
      "cell_type": "code",
      "metadata": {
        "id": "BtSd2G1vXA1J"
      },
      "source": [
        "eng_hin = np.array(df)"
      ],
      "execution_count": null,
      "outputs": []
    },
    {
      "cell_type": "code",
      "metadata": {
        "colab": {
          "base_uri": "https://localhost:8080/"
        },
        "id": "Lm4HDyBsaERi",
        "outputId": "f2eb7957-35f0-4993-f4ac-fd24d4262595"
      },
      "source": [
        "eng_hin.shape"
      ],
      "execution_count": null,
      "outputs": [
        {
          "output_type": "execute_result",
          "data": {
            "text/plain": [
              "(2923, 2)"
            ]
          },
          "metadata": {
            "tags": []
          },
          "execution_count": 13
        }
      ]
    },
    {
      "cell_type": "markdown",
      "metadata": {
        "id": "nqg5nSVTXOaX"
      },
      "source": [
        "# **Data Cleaning**"
      ]
    },
    {
      "cell_type": "code",
      "metadata": {
        "id": "ZwtkYEUtIYoi"
      },
      "source": [
        "# function to clean punctuations from text\r\n",
        "def clean(sentence):\r\n",
        "  punc = '''!()-[]{};:'\", <>./?@#$%^&*_~'''\r\n",
        "  for i in range(len(sentence)):  \r\n",
        "        if sentence[i] in punc:  \r\n",
        "            sentence =sentence.replace(sentence[i], \" \")  \r\n",
        "  return sentence"
      ],
      "execution_count": null,
      "outputs": []
    },
    {
      "cell_type": "code",
      "metadata": {
        "id": "0y-XT_DnalhO"
      },
      "source": [
        "for i in range(len(eng_hin)):\r\n",
        "  eng_hin[i,0]=clean(eng_hin[i,0])\r\n",
        "  eng_hin[i,1]=clean(eng_hin[i,1])"
      ],
      "execution_count": null,
      "outputs": []
    },
    {
      "cell_type": "markdown",
      "metadata": {
        "id": "WWhYOO6Bzg33"
      },
      "source": [
        "# **Data Transform**"
      ]
    },
    {
      "cell_type": "code",
      "metadata": {
        "id": "1SSbiVXivPc6"
      },
      "source": [
        "# transforming all uppercase character to lowercase to remove case sensitivity\r\n",
        "for i in range(len(eng_hin)):\r\n",
        "    eng_hin[i,0] = eng_hin[i,0].lower()\r\n",
        "    eng_hin[i,1] = eng_hin[i,1].lower()"
      ],
      "execution_count": null,
      "outputs": []
    },
    {
      "cell_type": "markdown",
      "metadata": {
        "id": "nLRMVkaL2XVK"
      },
      "source": [
        "# **Tokenization**"
      ]
    },
    {
      "cell_type": "code",
      "metadata": {
        "colab": {
          "base_uri": "https://localhost:8080/"
        },
        "id": "XQOZT5mMxNj7",
        "outputId": "cda544f4-d3c4-482a-9e12-218dda8460a6"
      },
      "source": [
        "# for English side data\r\n",
        "# initialising tokenizer\r\n",
        "eng_tokenizer = Tokenizer()\r\n",
        "# fitting data\r\n",
        "eng_tokenizer.fit_on_texts(eng_hin[:,0])\r\n",
        "# getting vocab size\r\n",
        "eng_vocab_size = len(eng_tokenizer.word_index) + 1\r\n",
        "\r\n",
        "eng_length = 8\r\n",
        "print('English Vocabulary Size: %d' % eng_vocab_size)\r\n",
        "\r\n",
        "# for English side data\r\n",
        "# initialising tokenizer\r\n",
        "hin_tokenizer = Tokenizer()\r\n",
        "# fitting data\r\n",
        "hin_tokenizer.fit_on_texts(eng_hin[:,1])\r\n",
        "# getting vocab size\r\n",
        "hin_vocab_size = len(hin_tokenizer.word_index) + 1\r\n",
        "\r\n",
        "hin_length = 8\r\n",
        "print('Hindi Vocabulary Size: %d' % hin_vocab_size)"
      ],
      "execution_count": null,
      "outputs": [
        {
          "output_type": "stream",
          "text": [
            "English Vocabulary Size: 2387\n",
            "Hindi Vocabulary Size: 3054\n"
          ],
          "name": "stdout"
        }
      ]
    },
    {
      "cell_type": "markdown",
      "metadata": {
        "id": "znGt13nQ16op"
      },
      "source": [
        "# **Splitting data into Train and Test Sets**"
      ]
    },
    {
      "cell_type": "code",
      "metadata": {
        "id": "N37ybVQ_xwWy"
      },
      "source": [
        "from sklearn.model_selection import train_test_split\r\n",
        "\r\n",
        "# split data into train and test set in 80:20 ratio\r\n",
        "train, test = train_test_split(eng_hin, test_size=0.2, random_state = 12)"
      ],
      "execution_count": null,
      "outputs": []
    },
    {
      "cell_type": "markdown",
      "metadata": {
        "id": "8DgAIUQW2gKA"
      },
      "source": [
        "# **Tokens to Sequences**"
      ]
    },
    {
      "cell_type": "code",
      "metadata": {
        "id": "T-AHILKtxtm7"
      },
      "source": [
        "# function to encode text into numbers\r\n",
        "def encode_sequences( tokenizer , length , lines):\r\n",
        "\r\n",
        "  seq = tokenizer.texts_to_sequences(lines)\r\n",
        "  \r\n",
        "  # pad sequences with 0 values to make all sequences of equal length\r\n",
        "  seq = pad_sequences(seq, maxlen=length, padding='post')\r\n",
        "\r\n",
        "  return seq"
      ],
      "execution_count": null,
      "outputs": []
    },
    {
      "cell_type": "code",
      "metadata": {
        "id": "PsPc1kFtx0xc"
      },
      "source": [
        "# prepare training data\r\n",
        "# spanish part\r\n",
        "trainX = encode_sequences(hin_tokenizer, hin_length, train[:, 1])\r\n",
        "\r\n",
        "# english part\r\n",
        "trainY = encode_sequences(eng_tokenizer, eng_length, train[:, 0])\r\n",
        "\r\n",
        "# prepare validation data\r\n",
        "# spanish part\r\n",
        "testX = encode_sequences(hin_tokenizer, hin_length, test[:, 1])\r\n",
        "\r\n",
        "# english part\r\n",
        "testY = encode_sequences(eng_tokenizer, eng_length, test[:, 0])"
      ],
      "execution_count": null,
      "outputs": []
    },
    {
      "cell_type": "markdown",
      "metadata": {
        "id": "-eGybsmL23QN"
      },
      "source": [
        "# **Modelling**"
      ]
    },
    {
      "cell_type": "markdown",
      "metadata": {
        "id": "xLmfR44S2ohX"
      },
      "source": [
        "## **Defining Model** "
      ]
    },
    {
      "cell_type": "code",
      "metadata": {
        "colab": {
          "base_uri": "https://localhost:8080/"
        },
        "id": "bHbO4hYzyNdL",
        "outputId": "6172b6b3-556d-4fc6-c9e5-3f7654529ccc"
      },
      "source": [
        "# model initialisation\r\n",
        "model = Sequential()\r\n",
        "\r\n",
        "# adding embedding layer\r\n",
        "model.add(Embedding(hin_vocab_size, 256, input_length=hin_length, mask_zero=True))\r\n",
        "\r\n",
        "# adding a LSTM layer\r\n",
        "model.add(LSTM(256))\r\n",
        "\r\n",
        "model.add(RepeatVector(eng_length))\r\n",
        "\r\n",
        "# adding a LSTM layer\r\n",
        "model.add(LSTM(256, return_sequences=True))\r\n",
        "\r\n",
        "# adding a dense layer to predict words in english\r\n",
        "model.add(Dense(eng_vocab_size, activation='softmax'))\r\n",
        "\r\n",
        "# view model details\r\n",
        "model.summary()"
      ],
      "execution_count": null,
      "outputs": [
        {
          "output_type": "stream",
          "text": [
            "Model: \"sequential\"\n",
            "_________________________________________________________________\n",
            "Layer (type)                 Output Shape              Param #   \n",
            "=================================================================\n",
            "embedding (Embedding)        (None, 8, 256)            781824    \n",
            "_________________________________________________________________\n",
            "lstm (LSTM)                  (None, 256)               525312    \n",
            "_________________________________________________________________\n",
            "repeat_vector (RepeatVector) (None, 8, 256)            0         \n",
            "_________________________________________________________________\n",
            "lstm_1 (LSTM)                (None, 8, 256)            525312    \n",
            "_________________________________________________________________\n",
            "dense (Dense)                (None, 8, 2387)           613459    \n",
            "=================================================================\n",
            "Total params: 2,445,907\n",
            "Trainable params: 2,445,907\n",
            "Non-trainable params: 0\n",
            "_________________________________________________________________\n"
          ],
          "name": "stdout"
        }
      ]
    },
    {
      "cell_type": "markdown",
      "metadata": {
        "id": "v0qyQVP02x9I"
      },
      "source": [
        "## **Compiling model**"
      ]
    },
    {
      "cell_type": "code",
      "metadata": {
        "id": "Wyd-PHt_yVJ0"
      },
      "source": [
        "# using adam optimizer with sparse categorical cross entropy as loss function\r\n",
        "model.compile(optimizer='adam', loss='sparse_categorical_crossentropy')"
      ],
      "execution_count": null,
      "outputs": []
    },
    {
      "cell_type": "markdown",
      "metadata": {
        "id": "dJzWlb5r3AqS"
      },
      "source": [
        "## **Training model**"
      ]
    },
    {
      "cell_type": "code",
      "metadata": {
        "colab": {
          "base_uri": "https://localhost:8080/"
        },
        "id": "ejJPkcZgyZId",
        "outputId": "fb693d35-8b67-496c-9389-3d4a2f0343ef"
      },
      "source": [
        "# path to save model\r\n",
        "filename = 'drive/My Drive/en-hin-model'\r\n",
        "checkpoint = ModelCheckpoint(filename, monitor='val_loss', verbose=1, save_best_only=True, mode='min')\r\n",
        "\r\n",
        "# train model\r\n",
        "history = model.fit(trainX, trainY.reshape(trainY.shape[0], trainY.shape[1], 1),\r\n",
        "                    epochs=30, batch_size=100, validation_split = 0.2,callbacks=[checkpoint], verbose=1)"
      ],
      "execution_count": null,
      "outputs": [
        {
          "output_type": "stream",
          "text": [
            "Epoch 1/30\n",
            "19/19 [==============================] - 12s 364ms/step - loss: 7.5265 - val_loss: 5.5157\n",
            "\n",
            "Epoch 00001: val_loss improved from inf to 5.51570, saving model to drive/My Drive/en-hin-model\n"
          ],
          "name": "stdout"
        },
        {
          "output_type": "stream",
          "text": [
            "WARNING:absl:Found untraced functions such as lstm_cell_layer_call_and_return_conditional_losses, lstm_cell_layer_call_fn, lstm_cell_1_layer_call_and_return_conditional_losses, lstm_cell_1_layer_call_fn, lstm_cell_layer_call_fn while saving (showing 5 of 10). These functions will not be directly callable after loading.\n",
            "WARNING:absl:Found untraced functions such as lstm_cell_layer_call_and_return_conditional_losses, lstm_cell_layer_call_fn, lstm_cell_1_layer_call_and_return_conditional_losses, lstm_cell_1_layer_call_fn, lstm_cell_layer_call_fn while saving (showing 5 of 10). These functions will not be directly callable after loading.\n"
          ],
          "name": "stderr"
        },
        {
          "output_type": "stream",
          "text": [
            "Epoch 2/30\n",
            "19/19 [==============================] - 5s 270ms/step - loss: 5.3725 - val_loss: 5.3017\n",
            "\n",
            "Epoch 00002: val_loss improved from 5.51570 to 5.30166, saving model to drive/My Drive/en-hin-model\n"
          ],
          "name": "stdout"
        },
        {
          "output_type": "stream",
          "text": [
            "WARNING:absl:Found untraced functions such as lstm_cell_layer_call_and_return_conditional_losses, lstm_cell_layer_call_fn, lstm_cell_1_layer_call_and_return_conditional_losses, lstm_cell_1_layer_call_fn, lstm_cell_layer_call_fn while saving (showing 5 of 10). These functions will not be directly callable after loading.\n",
            "WARNING:absl:Found untraced functions such as lstm_cell_layer_call_and_return_conditional_losses, lstm_cell_layer_call_fn, lstm_cell_1_layer_call_and_return_conditional_losses, lstm_cell_1_layer_call_fn, lstm_cell_layer_call_fn while saving (showing 5 of 10). These functions will not be directly callable after loading.\n"
          ],
          "name": "stderr"
        },
        {
          "output_type": "stream",
          "text": [
            "Epoch 3/30\n",
            "19/19 [==============================] - 5s 268ms/step - loss: 5.1207 - val_loss: 5.1672\n",
            "\n",
            "Epoch 00003: val_loss improved from 5.30166 to 5.16715, saving model to drive/My Drive/en-hin-model\n"
          ],
          "name": "stdout"
        },
        {
          "output_type": "stream",
          "text": [
            "WARNING:absl:Found untraced functions such as lstm_cell_layer_call_and_return_conditional_losses, lstm_cell_layer_call_fn, lstm_cell_1_layer_call_and_return_conditional_losses, lstm_cell_1_layer_call_fn, lstm_cell_layer_call_fn while saving (showing 5 of 10). These functions will not be directly callable after loading.\n",
            "WARNING:absl:Found untraced functions such as lstm_cell_layer_call_and_return_conditional_losses, lstm_cell_layer_call_fn, lstm_cell_1_layer_call_and_return_conditional_losses, lstm_cell_1_layer_call_fn, lstm_cell_layer_call_fn while saving (showing 5 of 10). These functions will not be directly callable after loading.\n"
          ],
          "name": "stderr"
        },
        {
          "output_type": "stream",
          "text": [
            "Epoch 4/30\n",
            "19/19 [==============================] - 5s 266ms/step - loss: 4.9813 - val_loss: 5.0911\n",
            "\n",
            "Epoch 00004: val_loss improved from 5.16715 to 5.09106, saving model to drive/My Drive/en-hin-model\n"
          ],
          "name": "stdout"
        },
        {
          "output_type": "stream",
          "text": [
            "WARNING:absl:Found untraced functions such as lstm_cell_layer_call_and_return_conditional_losses, lstm_cell_layer_call_fn, lstm_cell_1_layer_call_and_return_conditional_losses, lstm_cell_1_layer_call_fn, lstm_cell_layer_call_fn while saving (showing 5 of 10). These functions will not be directly callable after loading.\n",
            "WARNING:absl:Found untraced functions such as lstm_cell_layer_call_and_return_conditional_losses, lstm_cell_layer_call_fn, lstm_cell_1_layer_call_and_return_conditional_losses, lstm_cell_1_layer_call_fn, lstm_cell_layer_call_fn while saving (showing 5 of 10). These functions will not be directly callable after loading.\n"
          ],
          "name": "stderr"
        },
        {
          "output_type": "stream",
          "text": [
            "Epoch 5/30\n",
            "19/19 [==============================] - 5s 268ms/step - loss: 4.8396 - val_loss: 5.0155\n",
            "\n",
            "Epoch 00005: val_loss improved from 5.09106 to 5.01551, saving model to drive/My Drive/en-hin-model\n"
          ],
          "name": "stdout"
        },
        {
          "output_type": "stream",
          "text": [
            "WARNING:absl:Found untraced functions such as lstm_cell_layer_call_and_return_conditional_losses, lstm_cell_layer_call_fn, lstm_cell_1_layer_call_and_return_conditional_losses, lstm_cell_1_layer_call_fn, lstm_cell_layer_call_fn while saving (showing 5 of 10). These functions will not be directly callable after loading.\n",
            "WARNING:absl:Found untraced functions such as lstm_cell_layer_call_and_return_conditional_losses, lstm_cell_layer_call_fn, lstm_cell_1_layer_call_and_return_conditional_losses, lstm_cell_1_layer_call_fn, lstm_cell_layer_call_fn while saving (showing 5 of 10). These functions will not be directly callable after loading.\n"
          ],
          "name": "stderr"
        },
        {
          "output_type": "stream",
          "text": [
            "Epoch 6/30\n",
            "19/19 [==============================] - 5s 277ms/step - loss: 4.7785 - val_loss: 4.9772\n",
            "\n",
            "Epoch 00006: val_loss improved from 5.01551 to 4.97720, saving model to drive/My Drive/en-hin-model\n"
          ],
          "name": "stdout"
        },
        {
          "output_type": "stream",
          "text": [
            "WARNING:absl:Found untraced functions such as lstm_cell_layer_call_and_return_conditional_losses, lstm_cell_layer_call_fn, lstm_cell_1_layer_call_and_return_conditional_losses, lstm_cell_1_layer_call_fn, lstm_cell_layer_call_fn while saving (showing 5 of 10). These functions will not be directly callable after loading.\n",
            "WARNING:absl:Found untraced functions such as lstm_cell_layer_call_and_return_conditional_losses, lstm_cell_layer_call_fn, lstm_cell_1_layer_call_and_return_conditional_losses, lstm_cell_1_layer_call_fn, lstm_cell_layer_call_fn while saving (showing 5 of 10). These functions will not be directly callable after loading.\n"
          ],
          "name": "stderr"
        },
        {
          "output_type": "stream",
          "text": [
            "Epoch 7/30\n",
            "19/19 [==============================] - 5s 274ms/step - loss: 4.6771 - val_loss: 4.9425\n",
            "\n",
            "Epoch 00007: val_loss improved from 4.97720 to 4.94253, saving model to drive/My Drive/en-hin-model\n"
          ],
          "name": "stdout"
        },
        {
          "output_type": "stream",
          "text": [
            "WARNING:absl:Found untraced functions such as lstm_cell_layer_call_and_return_conditional_losses, lstm_cell_layer_call_fn, lstm_cell_1_layer_call_and_return_conditional_losses, lstm_cell_1_layer_call_fn, lstm_cell_layer_call_fn while saving (showing 5 of 10). These functions will not be directly callable after loading.\n",
            "WARNING:absl:Found untraced functions such as lstm_cell_layer_call_and_return_conditional_losses, lstm_cell_layer_call_fn, lstm_cell_1_layer_call_and_return_conditional_losses, lstm_cell_1_layer_call_fn, lstm_cell_layer_call_fn while saving (showing 5 of 10). These functions will not be directly callable after loading.\n"
          ],
          "name": "stderr"
        },
        {
          "output_type": "stream",
          "text": [
            "Epoch 8/30\n",
            "19/19 [==============================] - 6s 304ms/step - loss: 4.6025 - val_loss: 4.9262\n",
            "\n",
            "Epoch 00008: val_loss improved from 4.94253 to 4.92616, saving model to drive/My Drive/en-hin-model\n"
          ],
          "name": "stdout"
        },
        {
          "output_type": "stream",
          "text": [
            "WARNING:absl:Found untraced functions such as lstm_cell_layer_call_and_return_conditional_losses, lstm_cell_layer_call_fn, lstm_cell_1_layer_call_and_return_conditional_losses, lstm_cell_1_layer_call_fn, lstm_cell_layer_call_fn while saving (showing 5 of 10). These functions will not be directly callable after loading.\n",
            "WARNING:absl:Found untraced functions such as lstm_cell_layer_call_and_return_conditional_losses, lstm_cell_layer_call_fn, lstm_cell_1_layer_call_and_return_conditional_losses, lstm_cell_1_layer_call_fn, lstm_cell_layer_call_fn while saving (showing 5 of 10). These functions will not be directly callable after loading.\n"
          ],
          "name": "stderr"
        },
        {
          "output_type": "stream",
          "text": [
            "Epoch 9/30\n",
            "19/19 [==============================] - 5s 271ms/step - loss: 4.6151 - val_loss: 4.9190\n",
            "\n",
            "Epoch 00009: val_loss improved from 4.92616 to 4.91897, saving model to drive/My Drive/en-hin-model\n"
          ],
          "name": "stdout"
        },
        {
          "output_type": "stream",
          "text": [
            "WARNING:absl:Found untraced functions such as lstm_cell_layer_call_and_return_conditional_losses, lstm_cell_layer_call_fn, lstm_cell_1_layer_call_and_return_conditional_losses, lstm_cell_1_layer_call_fn, lstm_cell_layer_call_fn while saving (showing 5 of 10). These functions will not be directly callable after loading.\n",
            "WARNING:absl:Found untraced functions such as lstm_cell_layer_call_and_return_conditional_losses, lstm_cell_layer_call_fn, lstm_cell_1_layer_call_and_return_conditional_losses, lstm_cell_1_layer_call_fn, lstm_cell_layer_call_fn while saving (showing 5 of 10). These functions will not be directly callable after loading.\n"
          ],
          "name": "stderr"
        },
        {
          "output_type": "stream",
          "text": [
            "Epoch 10/30\n",
            "19/19 [==============================] - 5s 267ms/step - loss: 4.5397 - val_loss: 4.9442\n",
            "\n",
            "Epoch 00010: val_loss did not improve from 4.91897\n",
            "Epoch 11/30\n",
            "19/19 [==============================] - 6s 306ms/step - loss: 4.4841 - val_loss: 4.9409\n",
            "\n",
            "Epoch 00011: val_loss did not improve from 4.91897\n",
            "Epoch 12/30\n",
            "19/19 [==============================] - 5s 267ms/step - loss: 4.4959 - val_loss: 4.9548\n",
            "\n",
            "Epoch 00012: val_loss did not improve from 4.91897\n",
            "Epoch 13/30\n",
            "19/19 [==============================] - 5s 264ms/step - loss: 4.4652 - val_loss: 4.9631\n",
            "\n",
            "Epoch 00013: val_loss did not improve from 4.91897\n",
            "Epoch 14/30\n",
            "19/19 [==============================] - 5s 268ms/step - loss: 4.3720 - val_loss: 4.9895\n",
            "\n",
            "Epoch 00014: val_loss did not improve from 4.91897\n",
            "Epoch 15/30\n",
            "19/19 [==============================] - 5s 265ms/step - loss: 4.3974 - val_loss: 5.0244\n",
            "\n",
            "Epoch 00015: val_loss did not improve from 4.91897\n",
            "Epoch 16/30\n",
            "19/19 [==============================] - 5s 268ms/step - loss: 4.3804 - val_loss: 5.0505\n",
            "\n",
            "Epoch 00016: val_loss did not improve from 4.91897\n",
            "Epoch 17/30\n",
            "19/19 [==============================] - 5s 266ms/step - loss: 4.3449 - val_loss: 5.0873\n",
            "\n",
            "Epoch 00017: val_loss did not improve from 4.91897\n",
            "Epoch 18/30\n",
            "19/19 [==============================] - 5s 272ms/step - loss: 4.4077 - val_loss: 5.0398\n",
            "\n",
            "Epoch 00018: val_loss did not improve from 4.91897\n",
            "Epoch 19/30\n",
            "19/19 [==============================] - 5s 265ms/step - loss: 4.3255 - val_loss: 5.0717\n",
            "\n",
            "Epoch 00019: val_loss did not improve from 4.91897\n",
            "Epoch 20/30\n",
            "19/19 [==============================] - 5s 269ms/step - loss: 4.2780 - val_loss: 5.0783\n",
            "\n",
            "Epoch 00020: val_loss did not improve from 4.91897\n",
            "Epoch 21/30\n",
            "19/19 [==============================] - 5s 268ms/step - loss: 4.2779 - val_loss: 5.1013\n",
            "\n",
            "Epoch 00021: val_loss did not improve from 4.91897\n",
            "Epoch 22/30\n",
            "19/19 [==============================] - 5s 267ms/step - loss: 4.2579 - val_loss: 5.1298\n",
            "\n",
            "Epoch 00022: val_loss did not improve from 4.91897\n",
            "Epoch 23/30\n",
            "19/19 [==============================] - 5s 266ms/step - loss: 4.2497 - val_loss: 5.1254\n",
            "\n",
            "Epoch 00023: val_loss did not improve from 4.91897\n",
            "Epoch 24/30\n",
            "19/19 [==============================] - 5s 265ms/step - loss: 4.2361 - val_loss: 5.1555\n",
            "\n",
            "Epoch 00024: val_loss did not improve from 4.91897\n",
            "Epoch 25/30\n",
            "19/19 [==============================] - 5s 264ms/step - loss: 4.2018 - val_loss: 5.1585\n",
            "\n",
            "Epoch 00025: val_loss did not improve from 4.91897\n",
            "Epoch 26/30\n",
            "19/19 [==============================] - 5s 267ms/step - loss: 4.2319 - val_loss: 5.2076\n",
            "\n",
            "Epoch 00026: val_loss did not improve from 4.91897\n",
            "Epoch 27/30\n",
            "19/19 [==============================] - 5s 267ms/step - loss: 4.1625 - val_loss: 5.1732\n",
            "\n",
            "Epoch 00027: val_loss did not improve from 4.91897\n",
            "Epoch 28/30\n",
            "19/19 [==============================] - 5s 267ms/step - loss: 4.1605 - val_loss: 5.2152\n",
            "\n",
            "Epoch 00028: val_loss did not improve from 4.91897\n",
            "Epoch 29/30\n",
            "19/19 [==============================] - 5s 265ms/step - loss: 4.1698 - val_loss: 5.2244\n",
            "\n",
            "Epoch 00029: val_loss did not improve from 4.91897\n",
            "Epoch 30/30\n",
            "19/19 [==============================] - 5s 267ms/step - loss: 4.1751 - val_loss: 5.2229\n",
            "\n",
            "Epoch 00030: val_loss did not improve from 4.91897\n"
          ],
          "name": "stdout"
        }
      ]
    },
    {
      "cell_type": "markdown",
      "metadata": {
        "id": "UuHg64qq3ERg"
      },
      "source": [
        "## **Training performance**"
      ]
    },
    {
      "cell_type": "code",
      "metadata": {
        "colab": {
          "base_uri": "https://localhost:8080/",
          "height": 265
        },
        "id": "DJbM4r5eyfJZ",
        "outputId": "4c488f68-a4db-451e-fe52-238e01adb95f"
      },
      "source": [
        "# viewing model training progress \r\n",
        "\r\n",
        "plt.plot(history.history['loss'])\r\n",
        "plt.plot(history.history['val_loss'])\r\n",
        "plt.legend(['train','validation'])\r\n",
        "plt.show()"
      ],
      "execution_count": null,
      "outputs": [
        {
          "output_type": "display_data",
          "data": {
            "image/png": "[encoded data removed]",
            "text/plain": [
              "<Figure size 432x288 with 1 Axes>"
            ]
          },
          "metadata": {
            "tags": [],
            "needs_background": "light"
          }
        }
      ]
    },
    {
      "cell_type": "markdown",
      "metadata": {
        "id": "7j_DCKL33M5F"
      },
      "source": [
        "# **Prediction on Test data**"
      ]
    },
    {
      "cell_type": "code",
      "metadata": {
        "id": "lFE5Hn86yjAQ"
      },
      "source": [
        "# load trained model\r\n",
        "model = load_model('drive/My Drive/en-hin-model')\r\n",
        "\r\n",
        "# list to store predictions\r\n",
        "preds_list=[]\r\n",
        "\r\n",
        "# predicting for 500 test sentences\r\n",
        "for i in range(500):\r\n",
        "  # predict function return the probabilities for target vobabularies\r\n",
        "  # argmax return the index having the maximum value\r\n",
        "  preds_list.append(np.argmax(model.predict(testX[i]), axis=-1))"
      ],
      "execution_count": null,
      "outputs": []
    },
    {
      "cell_type": "markdown",
      "metadata": {
        "id": "GQF6nul13hDH"
      },
      "source": [
        "## **Decoding predictions**"
      ]
    },
    {
      "cell_type": "code",
      "metadata": {
        "id": "zWF-O5Liy3wf"
      },
      "source": [
        "# function to map numbers to word in english language\r\n",
        "def get_word(n, tokenizer):\r\n",
        "      for word, index in tokenizer.word_index.items():\r\n",
        "          if index == n:\r\n",
        "              return word\r\n",
        "      return None"
      ],
      "execution_count": null,
      "outputs": []
    },
    {
      "cell_type": "code",
      "metadata": {
        "id": "nkiiiMaqzHVN"
      },
      "source": [
        "# to store predicted texts\r\n",
        "preds_text = []\r\n",
        "\r\n",
        "# to traverse predicted values\r\n",
        "for preds in preds_list:\r\n",
        "\r\n",
        "  # to store predicted sentence\r\n",
        "  sentence=''\r\n",
        "\r\n",
        "  # iterating through each sequence\r\n",
        "  for i in preds:\r\n",
        "        # to store words \r\n",
        "        temp = []\r\n",
        "        for j in range(len(i)):\r\n",
        "              t = get_word(i[j], eng_tokenizer)\r\n",
        "              if j > 0:\r\n",
        "                  if (t == get_word(i[j-1], eng_tokenizer)) or (t == None):\r\n",
        "                      temp.append('')\r\n",
        "                  else:\r\n",
        "                      temp.append(t)\r\n",
        "              else:\r\n",
        "                    if(t == None):\r\n",
        "                            temp.append('')\r\n",
        "                    else:\r\n",
        "                            temp.append(t)\r\n",
        "        # forming by combining words\r\n",
        "        sentence=sentence+' '+str.strip(' '.join(temp))\r\n",
        "        \r\n",
        "  # adding predicted sentences to list\r\n",
        "  preds_text.append(sentence)"
      ],
      "execution_count": null,
      "outputs": []
    },
    {
      "cell_type": "markdown",
      "metadata": {
        "id": "6TdqOC4C3obn"
      },
      "source": [
        "## **Model accuracy using BLEU Score**"
      ]
    },
    {
      "cell_type": "code",
      "metadata": {
        "colab": {
          "base_uri": "https://localhost:8080/",
          "height": 514
        },
        "id": "2VcErAgi3uZ-",
        "outputId": "165f880f-9357-4071-b889-ed53a5e916ef"
      },
      "source": [
        "# viewing predictions\r\n",
        "pred_df = pd.DataFrame({'actual' : test[:500,0], 'predicted' : preds_text[:500]})\r\n",
        "pred_df.sample(15)"
      ],
      "execution_count": null,
      "outputs": [
        {
          "output_type": "execute_result",
          "data": {
            "text/html": [
              "<div>\n",
              "<style scoped>\n",
              "    .dataframe tbody tr th:only-of-type {\n",
              "        vertical-align: middle;\n",
              "    }\n",
              "\n",
              "    .dataframe tbody tr th {\n",
              "        vertical-align: top;\n",
              "    }\n",
              "\n",
              "    .dataframe thead th {\n",
              "        text-align: right;\n",
              "    }\n",
              "</style>\n",
              "<table border=\"1\" class=\"dataframe\">\n",
              "  <thead>\n",
              "    <tr style=\"text-align: right;\">\n",
              "      <th></th>\n",
              "      <th>actual</th>\n",
              "      <th>predicted</th>\n",
              "    </tr>\n",
              "  </thead>\n",
              "  <tbody>\n",
              "    <tr>\n",
              "      <th>374</th>\n",
              "      <td>he was sentenced to death</td>\n",
              "      <td>selfish  coins the   i i the</td>\n",
              "    </tr>\n",
              "    <tr>\n",
              "      <th>474</th>\n",
              "      <td>cut the potatoes</td>\n",
              "      <td>the  the the the the the</td>\n",
              "    </tr>\n",
              "    <tr>\n",
              "      <th>246</th>\n",
              "      <td>the man hit me on the head</td>\n",
              "      <td>i  i i i  the</td>\n",
              "    </tr>\n",
              "    <tr>\n",
              "      <th>57</th>\n",
              "      <td>don t speak ill of your classmates</td>\n",
              "      <td>the  i i the the</td>\n",
              "    </tr>\n",
              "    <tr>\n",
              "      <th>118</th>\n",
              "      <td>how long did it take you to translate this book</td>\n",
              "      <td>i  i i i i i</td>\n",
              "    </tr>\n",
              "    <tr>\n",
              "      <th>168</th>\n",
              "      <td>i truly loved her</td>\n",
              "      <td>i the the selfish  classmates  i the the</td>\n",
              "    </tr>\n",
              "    <tr>\n",
              "      <th>458</th>\n",
              "      <td>all of a sudden  she began to laugh</td>\n",
              "      <td>the sheets selfish classmates   i the the the</td>\n",
              "    </tr>\n",
              "    <tr>\n",
              "      <th>3</th>\n",
              "      <td>all of my kids want to learn french</td>\n",
              "      <td>the    i i i the</td>\n",
              "    </tr>\n",
              "    <tr>\n",
              "      <th>51</th>\n",
              "      <td>we are sorry we can t help you</td>\n",
              "      <td>i the  sheets  selfish classmates i</td>\n",
              "    </tr>\n",
              "    <tr>\n",
              "      <th>127</th>\n",
              "      <td>you look tired</td>\n",
              "      <td>i    selfish  coins classmates i the the</td>\n",
              "    </tr>\n",
              "    <tr>\n",
              "      <th>293</th>\n",
              "      <td>let me handle this</td>\n",
              "      <td>i i  the the the the the</td>\n",
              "    </tr>\n",
              "    <tr>\n",
              "      <th>286</th>\n",
              "      <td>the majority of the committee voted against the bill</td>\n",
              "      <td>i   i  i</td>\n",
              "    </tr>\n",
              "    <tr>\n",
              "      <th>340</th>\n",
              "      <td>do you believe me</td>\n",
              "      <td>i the sheets selfish classmates the i the the</td>\n",
              "    </tr>\n",
              "    <tr>\n",
              "      <th>219</th>\n",
              "      <td>how s your job going</td>\n",
              "      <td>the sheets selfish classmates i i it the i the the</td>\n",
              "    </tr>\n",
              "    <tr>\n",
              "      <th>364</th>\n",
              "      <td>we should do away with the death penalty</td>\n",
              "      <td>i selfish  coins the  the   i</td>\n",
              "    </tr>\n",
              "  </tbody>\n",
              "</table>\n",
              "</div>"
            ],
            "text/plain": [
              "                                                    actual                                            predicted\n",
              "374                             he was sentenced to death                          selfish  coins the   i i the\n",
              "474                                      cut the potatoes                              the  the the the the the\n",
              "246                            the man hit me on the head                                         i  i i i  the\n",
              "57                     don t speak ill of your classmates                                      the  i i the the\n",
              "118       how long did it take you to translate this book                                          i  i i i i i\n",
              "168                                     i truly loved her              i the the selfish  classmates  i the the\n",
              "458                   all of a sudden  she began to laugh         the sheets selfish classmates   i the the the\n",
              "3                     all of my kids want to learn french                                      the    i i i the\n",
              "51                         we are sorry we can t help you                 i the  sheets  selfish classmates i  \n",
              "127                                        you look tired              i    selfish  coins classmates i the the\n",
              "293                                    let me handle this                              i i  the the the the the\n",
              "286  the majority of the committee voted against the bill                                             i   i  i \n",
              "340                                     do you believe me         i the sheets selfish classmates the i the the\n",
              "219                                  how s your job going    the sheets selfish classmates i i it the i the the\n",
              "364              we should do away with the death penalty                         i selfish  coins the  the   i"
            ]
          },
          "metadata": {
            "tags": []
          },
          "execution_count": 33
        }
      ]
    },
    {
      "cell_type": "markdown",
      "metadata": {
        "id": "rJZvfo7Ex3lo"
      },
      "source": [
        "# **Model Accuracy using BLEU Score**"
      ]
    },
    {
      "cell_type": "code",
      "metadata": {
        "colab": {
          "base_uri": "https://localhost:8080/"
        },
        "id": "k_VDNTIJOuWY",
        "outputId": "4f66e35e-9f5d-4caf-eeb3-6d995dbe9621"
      },
      "source": [
        "import nltk\r\n",
        "\r\n",
        "BLEU = 0\r\n",
        "\r\n",
        "for i in range(500):\r\n",
        "  BLEU += nltk.translate.bleu_score.sentence_bleu([test[i,0]], preds_text[i])\r\n",
        "\r\n",
        "BLEU/=500\r\n",
        "\r\n",
        "print(\"BLEU Score achieved is :\",BLEU*100)"
      ],
      "execution_count": null,
      "outputs": [
        {
          "output_type": "stream",
          "text": [
            "BLEU Score achieved is : 22.18371776419657\n"
          ],
          "name": "stdout"
        },
        {
          "output_type": "stream",
          "text": [
            "/usr/local/lib/python3.6/dist-packages/nltk/translate/bleu_score.py:490: UserWarning: \n",
            "Corpus/Sentence contains 0 counts of 3-gram overlaps.\n",
            "BLEU scores might be undesirable; use SmoothingFunction().\n",
            "  warnings.warn(_msg)\n",
            "/usr/local/lib/python3.6/dist-packages/nltk/translate/bleu_score.py:490: UserWarning: \n",
            "Corpus/Sentence contains 0 counts of 4-gram overlaps.\n",
            "BLEU scores might be undesirable; use SmoothingFunction().\n",
            "  warnings.warn(_msg)\n",
            "/usr/local/lib/python3.6/dist-packages/nltk/translate/bleu_score.py:490: UserWarning: \n",
            "Corpus/Sentence contains 0 counts of 2-gram overlaps.\n",
            "BLEU scores might be undesirable; use SmoothingFunction().\n",
            "  warnings.warn(_msg)\n"
          ],
          "name": "stderr"
        }
      ]
    }
  ]
}