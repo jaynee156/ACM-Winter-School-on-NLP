{
  "nbformat": 4,
  "nbformat_minor": 0,
  "metadata": {
    "colab": {
      "name": "335_TF_IDF_Task1_Students.ipynb",
      "provenance": [],
      "collapsed_sections": [],
      "toc_visible": true
    },
    "kernelspec": {
      "name": "python3",
      "display_name": "Python 3"
    }
  },
  "cells": [
    {
      "cell_type": "markdown",
      "metadata": {
        "id": "7XHly6zijkTA"
      },
      "source": [
        "# Importing all the necessary libraries"
      ]
    },
    {
      "cell_type": "code",
      "metadata": {
        "id": "Fm4KQoznjqXL",
        "colab": {
          "base_uri": "https://localhost:8080/",
          "height": 52
        },
        "outputId": "a34d6569-9817-4ff4-f153-15485b36b04d"
      },
      "source": [
        "from nltk.corpus import reuters \r\n",
        "from sklearn.preprocessing import MultiLabelBinarizer\r\n",
        "import pandas as pd\r\n",
        "import numpy as np\r\n",
        "\r\n",
        "'''\r\n",
        "  https://scikit-learn.org/stable/modules/generated/sklearn.naive_bayes.GaussianNB.html\r\n",
        "  https://scikit-learn.org/stable/modules/generated/sklearn.linear_model.LogisticRegression.html\r\n",
        "  https://scikit-learn.org/stable/modules/generated/sklearn.feature_extraction.text.TfidfVectorizer.html\r\n",
        "'''"
      ],
      "execution_count": null,
      "outputs": [
        {
          "output_type": "execute_result",
          "data": {
            "application/vnd.google.colaboratory.intrinsic+json": {
              "type": "string"
            },
            "text/plain": [
              "'\\n  https://scikit-learn.org/stable/modules/generated/sklearn.naive_bayes.GaussianNB.html\\n  https://scikit-learn.org/stable/modules/generated/sklearn.linear_model.LogisticRegression.html\\n  https://scikit-learn.org/stable/modules/generated/sklearn.feature_extraction.text.TfidfVectorizer.html\\n'"
            ]
          },
          "metadata": {
            "tags": []
          },
          "execution_count": 1
        }
      ]
    },
    {
      "cell_type": "code",
      "metadata": {
        "colab": {
          "base_uri": "https://localhost:8080/"
        },
        "id": "EtqqNG2vjz9g",
        "outputId": "874de675-01f8-43b7-de78-62a8c5c03767"
      },
      "source": [
        "import nltk\r\n",
        "nltk.download('reuters')"
      ],
      "execution_count": null,
      "outputs": [
        {
          "output_type": "stream",
          "text": [
            "[nltk_data] Downloading package reuters to /root/nltk_data...\n"
          ],
          "name": "stdout"
        },
        {
          "output_type": "execute_result",
          "data": {
            "text/plain": [
              "True"
            ]
          },
          "metadata": {
            "tags": []
          },
          "execution_count": 2
        }
      ]
    },
    {
      "cell_type": "code",
      "metadata": {
        "colab": {
          "base_uri": "https://localhost:8080/"
        },
        "id": "j_5MOY-SlDdz",
        "outputId": "44027986-0745-43f3-c4e9-154490b3c8fe"
      },
      "source": [
        "import nltk\r\n",
        "nltk.download('stopwords')"
      ],
      "execution_count": null,
      "outputs": [
        {
          "output_type": "stream",
          "text": [
            "[nltk_data] Downloading package stopwords to /root/nltk_data...\n",
            "[nltk_data]   Unzipping corpora/stopwords.zip.\n"
          ],
          "name": "stdout"
        },
        {
          "output_type": "execute_result",
          "data": {
            "text/plain": [
              "True"
            ]
          },
          "metadata": {
            "tags": []
          },
          "execution_count": 3
        }
      ]
    },
    {
      "cell_type": "code",
      "metadata": {
        "colab": {
          "base_uri": "https://localhost:8080/"
        },
        "id": "KgREfk-ilF7e",
        "outputId": "f375aba2-5ab4-41e5-dd04-78c3076470d5"
      },
      "source": [
        "import nltk\r\n",
        "nltk.download('punkt')\r\n",
        "  "
      ],
      "execution_count": null,
      "outputs": [
        {
          "output_type": "stream",
          "text": [
            "[nltk_data] Downloading package punkt to /root/nltk_data...\n",
            "[nltk_data]   Unzipping tokenizers/punkt.zip.\n"
          ],
          "name": "stdout"
        },
        {
          "output_type": "execute_result",
          "data": {
            "text/plain": [
              "True"
            ]
          },
          "metadata": {
            "tags": []
          },
          "execution_count": 4
        }
      ]
    },
    {
      "cell_type": "markdown",
      "metadata": {
        "id": "GnZCC0Oyj7qL"
      },
      "source": [
        "# Loading Data"
      ]
    },
    {
      "cell_type": "code",
      "metadata": {
        "id": "NfQCgsWNkaxk"
      },
      "source": [
        "mlb = MultiLabelBinarizer()"
      ],
      "execution_count": null,
      "outputs": []
    },
    {
      "cell_type": "code",
      "metadata": {
        "id": "lYPDnq0ej4u7"
      },
      "source": [
        "def collection_stats():\r\n",
        "  documents = reuters.fileids()\r\n",
        "  print(str(len(documents)) + \" documents\");\r\n",
        "\r\n",
        "  train_docs = list(filter(lambda doc: doc.startswith(\"train\"), documents));\r\n",
        "  print(str(len(train_docs)) + \" total train documents\");\r\n",
        " \r\n",
        "  test_docs = list(filter(lambda doc: doc.startswith(\"test\"), documents));\r\n",
        "  print(str(len(test_docs)) + \" total test documents\")\r\n",
        "\r\n",
        "  categories = reuters.categories()\r\n",
        "\r\n",
        "  print(str(len(categories)) + \" categories\");"
      ],
      "execution_count": null,
      "outputs": []
    },
    {
      "cell_type": "code",
      "metadata": {
        "colab": {
          "base_uri": "https://localhost:8080/"
        },
        "id": "2D1IKW5ZkAhI",
        "outputId": "bf4c4ca0-4a74-4164-f792-b50da6f0abb8"
      },
      "source": [
        "collection_stats()"
      ],
      "execution_count": null,
      "outputs": [
        {
          "output_type": "stream",
          "text": [
            "10788 documents\n",
            "7769 total train documents\n",
            "3019 total test documents\n",
            "90 categories\n"
          ],
          "name": "stdout"
        }
      ]
    },
    {
      "cell_type": "markdown",
      "metadata": {
        "id": "UckNFWbNkF2z"
      },
      "source": [
        "# Train Test Split of Data"
      ]
    },
    {
      "cell_type": "code",
      "metadata": {
        "id": "qozHfabhkFPW"
      },
      "source": [
        "def train_test_split():\r\n",
        "  documents = reuters.fileids()\r\n",
        "  train_docs = [document for document in documents if document.startswith(\"train\")]\r\n",
        "  test_docs = [document for document in documents if document.startswith(\"test\")]\r\n",
        "  x_train = [reuters.raw(doc_id) for doc_id in train_docs]\r\n",
        "  y_train = [reuters.raw(doc_id) for doc_id in test_docs]\r\n",
        "  x_test = mlb.fit_transform([reuters.categories(doc_id) for doc_id in train_docs])\r\n",
        "  y_test = mlb.transform([reuters.categories(doc_id) for doc_id in test_docs])\r\n",
        "  return x_train, y_train, x_test, y_test"
      ],
      "execution_count": null,
      "outputs": []
    },
    {
      "cell_type": "code",
      "metadata": {
        "id": "DmBYfuvKkCyl"
      },
      "source": [
        "x_train, x_test, y_train, y_test = train_test_split()"
      ],
      "execution_count": null,
      "outputs": []
    },
    {
      "cell_type": "markdown",
      "metadata": {
        "id": "9jaeeM01knVq"
      },
      "source": [
        "# Data Preprocessing"
      ]
    },
    {
      "cell_type": "code",
      "metadata": {
        "id": "_I21BiZdksQj"
      },
      "source": [
        "import re\r\n",
        "import nltk\r\n",
        "from nltk.tokenize import word_tokenize\r\n",
        "from nltk.corpus import stopwords"
      ],
      "execution_count": null,
      "outputs": []
    },
    {
      "cell_type": "code",
      "metadata": {
        "id": "dtsnw9AFlhbP"
      },
      "source": [
        "stop_words = set(stopwords.words('english'))"
      ],
      "execution_count": null,
      "outputs": []
    },
    {
      "cell_type": "code",
      "metadata": {
        "id": "aIRoCMIdnHB9"
      },
      "source": [
        "def clean_text(X_train):\r\n",
        "  clean =[]\r\n",
        "  for term in X_train:\r\n",
        "    term=re.sub(r'https\\S+' , '' ,term)\r\n",
        "    term=re.sub('[^a-zA-Z]' , ' ', term)\r\n",
        "    term = str(term).lower()\r\n",
        "    term=word_tokenize(term)\r\n",
        "    term=[item for item in term if item not in stop_words]\r\n",
        "    term =' '.join(term)\r\n",
        "    clean.append(term)\r\n",
        "  return clean\r\n",
        "\r\n",
        "  "
      ],
      "execution_count": null,
      "outputs": []
    },
    {
      "cell_type": "code",
      "metadata": {
        "id": "Z1mZH548n_BG"
      },
      "source": [
        "X_train=clean_text(x_train)\r\n",
        "X_test =clean_text(x_test)"
      ],
      "execution_count": null,
      "outputs": []
    },
    {
      "cell_type": "markdown",
      "metadata": {
        "id": "aXxheXfZqWVB"
      },
      "source": [
        "# Building TF-IDF representation of text"
      ]
    },
    {
      "cell_type": "code",
      "metadata": {
        "id": "BAfHeZeTqQLa"
      },
      "source": [
        "from sklearn.feature_extraction.text import TfidfVectorizer\r\n"
      ],
      "execution_count": null,
      "outputs": []
    },
    {
      "cell_type": "code",
      "metadata": {
        "id": "YCD3EW6P0qsR"
      },
      "source": [
        "# TFIDF representation of the text using the above imported functiont\r\n",
        "vectorizer = TfidfVectorizer()\r\n",
        "x_tf_train=vectorizer.fit_transform(X_train)\r\n",
        "x_tf_test=vectorizer.transform(X_test)"
      ],
      "execution_count": null,
      "outputs": []
    },
    {
      "cell_type": "code",
      "metadata": {
        "colab": {
          "base_uri": "https://localhost:8080/"
        },
        "id": "pXxR98lW0e5f",
        "outputId": "31f23816-f33d-4361-d742-e82a793211d5"
      },
      "source": [
        "print(x_tf_train.shape)\r\n",
        "print(x_tf_test.shape)"
      ],
      "execution_count": null,
      "outputs": [
        {
          "output_type": "stream",
          "text": [
            "(7769, 24554)\n",
            "(3019, 24554)\n"
          ],
          "name": "stdout"
        }
      ]
    },
    {
      "cell_type": "markdown",
      "metadata": {
        "id": "Lj4TRimArvUl"
      },
      "source": [
        "# Logistic Regression"
      ]
    },
    {
      "cell_type": "code",
      "metadata": {
        "id": "6SW9aCLsrjdX"
      },
      "source": [
        "from sklearn.linear_model import LogisticRegression\r\n",
        "from sklearn.multiclass import OneVsRestClassifier\r\n",
        "from sklearn.metrics import classification_report\r\n",
        "from sklearn.svm import SVC"
      ],
      "execution_count": null,
      "outputs": []
    },
    {
      "cell_type": "markdown",
      "metadata": {
        "id": "eLf-vO67032k"
      },
      "source": [
        "## Fit and Predict Model"
      ]
    },
    {
      "cell_type": "code",
      "metadata": {
        "id": "4fabzUiHJIy8"
      },
      "source": [
        "lr=LogisticRegression()\r\n",
        "ovr = OneVsRestClassifier(lr)\r\n"
      ],
      "execution_count": null,
      "outputs": []
    },
    {
      "cell_type": "code",
      "metadata": {
        "colab": {
          "base_uri": "https://localhost:8080/"
        },
        "id": "lgy3IG5-xUTZ",
        "outputId": "822d5971-bb68-4262-f3da-dd7449b3590d"
      },
      "source": [
        "ovr.fit(x_tf_train, y_train )"
      ],
      "execution_count": null,
      "outputs": [
        {
          "output_type": "execute_result",
          "data": {
            "text/plain": [
              "OneVsRestClassifier(estimator=LogisticRegression(C=1.0, class_weight=None,\n",
              "                                                 dual=False, fit_intercept=True,\n",
              "                                                 intercept_scaling=1,\n",
              "                                                 l1_ratio=None, max_iter=100,\n",
              "                                                 multi_class='auto',\n",
              "                                                 n_jobs=None, penalty='l2',\n",
              "                                                 random_state=None,\n",
              "                                                 solver='lbfgs', tol=0.0001,\n",
              "                                                 verbose=0, warm_start=False),\n",
              "                    n_jobs=None)"
            ]
          },
          "metadata": {
            "tags": []
          },
          "execution_count": 32
        }
      ]
    },
    {
      "cell_type": "code",
      "metadata": {
        "id": "MF9K_YrCxk3m"
      },
      "source": [
        "y_predict = ovr.predict(x_tf_test)"
      ],
      "execution_count": null,
      "outputs": []
    },
    {
      "cell_type": "code",
      "metadata": {
        "colab": {
          "base_uri": "https://localhost:8080/"
        },
        "id": "h85HZCG5x1qX",
        "outputId": "2e285836-eb5d-4301-beb2-01f73e4a589b"
      },
      "source": [
        "print(y_test[0])\r\n",
        "print(y_predict[0])"
      ],
      "execution_count": null,
      "outputs": [
        {
          "output_type": "stream",
          "text": [
            "[0 0 0 0 0 0 0 0 0 0 0 0 0 0 0 0 0 0 0 0 0 0 0 0 0 0 0 0 0 0 0 0 0 0 0 0 0\n",
            " 0 0 0 0 0 0 0 0 0 0 0 0 0 0 0 0 0 0 0 0 0 0 0 0 0 0 0 0 0 0 0 0 0 0 0 0 0\n",
            " 0 0 0 0 0 0 0 0 0 0 1 0 0 0 0 0]\n",
            "[0 0 0 0 0 0 0 0 0 0 0 0 0 0 0 0 0 0 0 0 0 0 0 0 0 0 0 0 0 0 0 0 0 0 0 0 0\n",
            " 0 0 0 0 0 0 0 0 0 0 0 0 0 0 0 0 0 0 0 0 0 0 0 0 0 0 0 0 0 0 0 0 0 0 0 0 0\n",
            " 0 0 0 0 0 0 0 0 0 0 1 0 0 0 0 0]\n"
          ],
          "name": "stdout"
        }
      ]
    },
    {
      "cell_type": "markdown",
      "metadata": {
        "id": "nJ1ZmItnJJfW"
      },
      "source": [
        "## Classification report on training data"
      ]
    },
    {
      "cell_type": "code",
      "metadata": {
        "id": "9-RdQj7BsIzi",
        "colab": {
          "base_uri": "https://localhost:8080/"
        },
        "outputId": "a8e62da5-8205-450a-b2d9-bcde80e11812"
      },
      "source": [
        "print(\"Logistic Regression Result word on Train\")\r\n",
        "print(classification_report( ovr.predict(x_tf_train) , y_train))"
      ],
      "execution_count": null,
      "outputs": [
        {
          "output_type": "stream",
          "text": [
            "Logistic Regression Result word on Train\n",
            "              precision    recall  f1-score   support\n",
            "\n",
            "           0       0.96      0.98      0.97      1619\n",
            "           1       0.00      0.00      0.00         0\n",
            "           2       0.05      0.67      0.10         3\n",
            "           3       0.35      1.00      0.51        26\n",
            "           4       0.06      1.00      0.11         3\n",
            "           5       0.00      0.00      0.00         0\n",
            "           6       0.45      1.00      0.62        25\n",
            "           7       0.00      0.00      0.00         0\n",
            "           8       0.00      0.00      0.00         0\n",
            "           9       0.68      1.00      0.81        75\n",
            "          10       0.11      1.00      0.19         5\n",
            "          11       0.00      0.00      0.00         0\n",
            "          12       0.49      0.99      0.65        89\n",
            "          13       0.03      1.00      0.05         1\n",
            "          14       0.00      0.00      0.00         0\n",
            "          15       0.41      1.00      0.58        28\n",
            "          16       0.00      0.00      0.00         0\n",
            "          17       0.68      0.99      0.80       265\n",
            "          18       0.00      0.00      0.00         0\n",
            "          19       0.45      0.91      0.60        65\n",
            "          20       0.00      0.00      0.00         0\n",
            "          21       0.95      1.00      0.97      2727\n",
            "          22       0.00      0.00      0.00         0\n",
            "          23       0.00      0.00      0.00         0\n",
            "          24       0.38      1.00      0.55        38\n",
            "          25       0.46      1.00      0.63        43\n",
            "          26       0.75      0.99      0.86       327\n",
            "          27       0.00      0.00      0.00         0\n",
            "          28       0.00      0.00      0.00         0\n",
            "          29       0.00      0.00      0.00         0\n",
            "          30       0.00      0.00      0.00         0\n",
            "          31       0.00      0.00      0.00         0\n",
            "          32       0.00      0.00      0.00         0\n",
            "          33       0.00      0.00      0.00         0\n",
            "          34       0.68      0.92      0.78       257\n",
            "          35       0.20      1.00      0.33         8\n",
            "          36       0.00      0.00      0.00         0\n",
            "          37       0.00      0.00      0.00         0\n",
            "          38       0.30      1.00      0.47        14\n",
            "          39       0.00      0.00      0.00         0\n",
            "          40       0.00      0.00      0.00         0\n",
            "          41       0.00      0.00      0.00         0\n",
            "          42       0.00      0.00      0.00         0\n",
            "          43       0.11      1.00      0.19         8\n",
            "          44       0.00      0.00      0.00         0\n",
            "          45       0.00      0.00      0.00         0\n",
            "          46       0.74      0.93      0.83       427\n",
            "          47       0.53      1.00      0.69        74\n",
            "          48       0.00      0.00      0.00         0\n",
            "          49       0.16      0.92      0.27        13\n",
            "          50       0.00      0.00      0.00         0\n",
            "          51       0.00      0.00      0.00         0\n",
            "          52       0.00      0.00      0.00         0\n",
            "          53       0.00      0.00      0.00         0\n",
            "          54       0.22      1.00      0.36        27\n",
            "          55       0.00      0.00      0.00         0\n",
            "          56       0.00      0.00      0.00         0\n",
            "          57       0.10      1.00      0.18         3\n",
            "          58       0.00      0.00      0.00         0\n",
            "          59       0.00      0.00      0.00         0\n",
            "          60       0.00      0.00      0.00         0\n",
            "          61       0.00      0.00      0.00         0\n",
            "          62       0.00      0.00      0.00         0\n",
            "          63       0.00      0.00      0.00         0\n",
            "          64       0.00      0.00      0.00         0\n",
            "          65       0.00      0.00      0.00         0\n",
            "          66       0.27      1.00      0.43        15\n",
            "          67       0.00      0.00      0.00         0\n",
            "          68       0.00      0.00      0.00         0\n",
            "          69       0.11      1.00      0.20         4\n",
            "          70       0.00      0.00      0.00         0\n",
            "          71       0.32      1.00      0.49        64\n",
            "          72       0.00      0.00      0.00         0\n",
            "          73       0.00      0.00      0.00         0\n",
            "          74       0.00      0.00      0.00         0\n",
            "          75       0.00      0.00      0.00         0\n",
            "          76       0.12      1.00      0.21         9\n",
            "          77       0.00      0.00      0.00         0\n",
            "          78       0.67      1.00      0.80        84\n",
            "          79       0.00      0.00      0.00         0\n",
            "          80       0.00      0.00      0.00         0\n",
            "          81       0.00      0.00      0.00         0\n",
            "          82       0.00      0.00      0.00         0\n",
            "          83       0.00      0.00      0.00         0\n",
            "          84       0.67      0.96      0.79       257\n",
            "          85       0.22      1.00      0.36        19\n",
            "          86       0.67      0.99      0.80       144\n",
            "          87       0.00      0.00      0.00         0\n",
            "          88       0.04      1.00      0.09         2\n",
            "          89       0.00      0.00      0.00         0\n",
            "\n",
            "   micro avg       0.69      0.98      0.81      6768\n",
            "   macro avg       0.15      0.37      0.19      6768\n",
            "weighted avg       0.84      0.98      0.89      6768\n",
            " samples avg       0.77      0.80      0.77      6768\n",
            "\n"
          ],
          "name": "stdout"
        },
        {
          "output_type": "stream",
          "text": [
            "/usr/local/lib/python3.6/dist-packages/sklearn/metrics/_classification.py:1272: UndefinedMetricWarning: Recall and F-score are ill-defined and being set to 0.0 in labels with no true samples. Use `zero_division` parameter to control this behavior.\n",
            "  _warn_prf(average, modifier, msg_start, len(result))\n",
            "/usr/local/lib/python3.6/dist-packages/sklearn/metrics/_classification.py:1272: UndefinedMetricWarning: Recall and F-score are ill-defined and being set to 0.0 in samples with no true labels. Use `zero_division` parameter to control this behavior.\n",
            "  _warn_prf(average, modifier, msg_start, len(result))\n"
          ],
          "name": "stderr"
        }
      ]
    },
    {
      "cell_type": "markdown",
      "metadata": {
        "id": "wItdEVON0uGr"
      },
      "source": [
        "## Classification Report on testing data"
      ]
    },
    {
      "cell_type": "code",
      "metadata": {
        "id": "C8OUXEkhsaSY",
        "colab": {
          "base_uri": "https://localhost:8080/"
        },
        "outputId": "ae8ae265-7777-49c4-da3e-bc6ca65045aa"
      },
      "source": [
        "print(\"Logistic Regression Result word on Test\")\r\n",
        "print(classification_report( ovr.predict(x_tf_test) , y_test))"
      ],
      "execution_count": null,
      "outputs": [
        {
          "output_type": "stream",
          "text": [
            "Logistic Regression Result word on Test\n",
            "              precision    recall  f1-score   support\n",
            "\n",
            "           0       0.92      0.99      0.95       670\n",
            "           1       0.00      0.00      0.00         0\n",
            "           2       0.00      0.00      0.00         0\n",
            "           3       0.13      1.00      0.24         4\n",
            "           4       0.06      1.00      0.11         1\n",
            "           5       0.00      0.00      0.00         0\n",
            "           6       0.44      1.00      0.62         8\n",
            "           7       0.00      0.00      0.00         0\n",
            "           8       0.00      0.00      0.00         0\n",
            "           9       0.64      1.00      0.78        18\n",
            "          10       0.06      1.00      0.11         1\n",
            "          11       0.00      0.00      0.00         0\n",
            "          12       0.45      0.93      0.60        27\n",
            "          13       0.00      0.00      0.00         0\n",
            "          14       0.00      0.00      0.00         0\n",
            "          15       0.14      1.00      0.25         4\n",
            "          16       0.00      0.00      0.00         0\n",
            "          17       0.58      0.96      0.72       113\n",
            "          18       0.00      0.00      0.00         0\n",
            "          19       0.39      0.81      0.52        21\n",
            "          20       0.00      0.00      0.00         0\n",
            "          21       0.97      0.99      0.98      1057\n",
            "          22       0.00      0.00      0.00         0\n",
            "          23       0.00      0.00      0.00         0\n",
            "          24       0.26      1.00      0.41         9\n",
            "          25       0.20      1.00      0.33         6\n",
            "          26       0.61      1.00      0.76        91\n",
            "          27       0.00      0.00      0.00         0\n",
            "          28       0.00      0.00      0.00         0\n",
            "          29       0.00      0.00      0.00         0\n",
            "          30       0.00      0.00      0.00         0\n",
            "          31       0.00      0.00      0.00         0\n",
            "          32       0.00      0.00      0.00         0\n",
            "          33       0.00      0.00      0.00         0\n",
            "          34       0.48      0.90      0.63        70\n",
            "          35       0.00      0.00      0.00         0\n",
            "          36       0.00      0.00      0.00         0\n",
            "          37       0.00      0.00      0.00         0\n",
            "          38       0.10      1.00      0.17         2\n",
            "          39       0.00      0.00      0.00         0\n",
            "          40       0.00      0.00      0.00         0\n",
            "          41       0.00      0.00      0.00         0\n",
            "          42       0.00      0.00      0.00         0\n",
            "          43       0.08      1.00      0.15         2\n",
            "          44       0.00      0.00      0.00         0\n",
            "          45       0.00      0.00      0.00         0\n",
            "          46       0.53      0.81      0.64       116\n",
            "          47       0.35      0.92      0.51        13\n",
            "          48       0.00      0.00      0.00         0\n",
            "          49       0.10      1.00      0.18         3\n",
            "          50       0.00      0.00      0.00         0\n",
            "          51       0.00      0.00      0.00         0\n",
            "          52       0.00      0.00      0.00         0\n",
            "          53       0.00      0.00      0.00         0\n",
            "          54       0.09      0.57      0.15         7\n",
            "          55       0.00      0.00      0.00         0\n",
            "          56       0.00      0.00      0.00         0\n",
            "          57       0.00      0.00      0.00         0\n",
            "          58       0.00      0.00      0.00         0\n",
            "          59       0.00      0.00      0.00         0\n",
            "          60       0.00      0.00      0.00         0\n",
            "          61       0.00      0.00      0.00         0\n",
            "          62       0.00      0.00      0.00         0\n",
            "          63       0.00      0.00      0.00         0\n",
            "          64       0.00      0.00      0.00         0\n",
            "          65       0.00      0.00      0.00         0\n",
            "          66       0.06      1.00      0.11         1\n",
            "          67       0.00      0.00      0.00         0\n",
            "          68       0.00      0.00      0.00         0\n",
            "          69       0.17      1.00      0.29         2\n",
            "          70       0.00      0.00      0.00         0\n",
            "          71       0.13      1.00      0.24        12\n",
            "          72       0.00      0.00      0.00         0\n",
            "          73       0.00      0.00      0.00         0\n",
            "          74       0.00      0.00      0.00         0\n",
            "          75       0.00      0.00      0.00         0\n",
            "          76       0.03      1.00      0.06         1\n",
            "          77       0.00      0.00      0.00         0\n",
            "          78       0.47      1.00      0.64        17\n",
            "          79       0.00      0.00      0.00         0\n",
            "          80       0.00      0.00      0.00         0\n",
            "          81       0.00      0.00      0.00         0\n",
            "          82       0.00      0.00      0.00         0\n",
            "          83       0.00      0.00      0.00         0\n",
            "          84       0.56      0.92      0.69        71\n",
            "          85       0.05      1.00      0.10         2\n",
            "          86       0.59      0.98      0.74        43\n",
            "          87       0.00      0.00      0.00         0\n",
            "          88       0.00      0.00      0.00         0\n",
            "          89       0.00      0.00      0.00         0\n",
            "\n",
            "   micro avg       0.62      0.97      0.76      2392\n",
            "   macro avg       0.11      0.31      0.14      2392\n",
            "weighted avg       0.82      0.97      0.88      2392\n",
            " samples avg       0.71      0.73      0.71      2392\n",
            "\n"
          ],
          "name": "stdout"
        },
        {
          "output_type": "stream",
          "text": [
            "/usr/local/lib/python3.6/dist-packages/sklearn/metrics/_classification.py:1272: UndefinedMetricWarning: Recall and F-score are ill-defined and being set to 0.0 in labels with no true samples. Use `zero_division` parameter to control this behavior.\n",
            "  _warn_prf(average, modifier, msg_start, len(result))\n",
            "/usr/local/lib/python3.6/dist-packages/sklearn/metrics/_classification.py:1272: UndefinedMetricWarning: Recall and F-score are ill-defined and being set to 0.0 in samples with no true labels. Use `zero_division` parameter to control this behavior.\n",
            "  _warn_prf(average, modifier, msg_start, len(result))\n"
          ],
          "name": "stderr"
        }
      ]
    },
    {
      "cell_type": "markdown",
      "metadata": {
        "id": "zTat-iJhsnsA"
      },
      "source": [
        "# Naive Bayes Classifier"
      ]
    },
    {
      "cell_type": "code",
      "metadata": {
        "id": "bk5JWY6kshEG"
      },
      "source": [
        "from sklearn.naive_bayes import MultinomialNB\r\n",
        "from sklearn.metrics import classification_report\r\n",
        "from sklearn.multiclass import OneVsRestClassifier"
      ],
      "execution_count": null,
      "outputs": []
    },
    {
      "cell_type": "markdown",
      "metadata": {
        "id": "6T8JZofr07uZ"
      },
      "source": [
        "## Fit and Predict Model"
      ]
    },
    {
      "cell_type": "code",
      "metadata": {
        "id": "fGSw3OLcst07"
      },
      "source": [
        "mulno = MultinomialNB()\r\n",
        "nbClassifier= OneVsRestClassifier(mulno)"
      ],
      "execution_count": null,
      "outputs": []
    },
    {
      "cell_type": "code",
      "metadata": {
        "id": "bMRKyeP8J3WO",
        "colab": {
          "base_uri": "https://localhost:8080/"
        },
        "outputId": "d4ff28d2-ecf3-437a-ae3b-fe206d568965"
      },
      "source": [
        "nbClassifier.fit(x_tf_train, y_train)"
      ],
      "execution_count": null,
      "outputs": [
        {
          "output_type": "execute_result",
          "data": {
            "text/plain": [
              "OneVsRestClassifier(estimator=MultinomialNB(alpha=1.0, class_prior=None,\n",
              "                                            fit_prior=True),\n",
              "                    n_jobs=None)"
            ]
          },
          "metadata": {
            "tags": []
          },
          "execution_count": 52
        }
      ]
    },
    {
      "cell_type": "code",
      "metadata": {
        "id": "p3HrfGIO2BMz"
      },
      "source": [
        "y_pred=nbClassifier.predict(x_tf_test)"
      ],
      "execution_count": null,
      "outputs": []
    },
    {
      "cell_type": "code",
      "metadata": {
        "colab": {
          "base_uri": "https://localhost:8080/"
        },
        "id": "Nysr5Ly-2HPn",
        "outputId": "f57bffe1-1852-4e04-9355-639f89b93039"
      },
      "source": [
        "print(y_test[0])\r\n",
        "print(y_pred[0])"
      ],
      "execution_count": null,
      "outputs": [
        {
          "output_type": "stream",
          "text": [
            "[0 0 0 0 0 0 0 0 0 0 0 0 0 0 0 0 0 0 0 0 0 0 0 0 0 0 0 0 0 0 0 0 0 0 0 0 0\n",
            " 0 0 0 0 0 0 0 0 0 0 0 0 0 0 0 0 0 0 0 0 0 0 0 0 0 0 0 0 0 0 0 0 0 0 0 0 0\n",
            " 0 0 0 0 0 0 0 0 0 0 1 0 0 0 0 0]\n",
            "[0 0 0 0 0 0 0 0 0 0 0 0 0 0 0 0 0 0 0 0 0 0 0 0 0 0 0 0 0 0 0 0 0 0 0 0 0\n",
            " 0 0 0 0 0 0 0 0 0 0 0 0 0 0 0 0 0 0 0 0 0 0 0 0 0 0 0 0 0 0 0 0 0 0 0 0 0\n",
            " 0 0 0 0 0 0 0 0 0 0 0 0 0 0 0 0]\n"
          ],
          "name": "stdout"
        }
      ]
    },
    {
      "cell_type": "markdown",
      "metadata": {
        "id": "UJcBUSUs1AtW"
      },
      "source": [
        "## Classification Report on training data"
      ]
    },
    {
      "cell_type": "code",
      "metadata": {
        "id": "fv7phej-tjV8",
        "colab": {
          "base_uri": "https://localhost:8080/"
        },
        "outputId": "f7686ea5-ac53-4f8f-d3e8-ae0eef78c001"
      },
      "source": [
        "print(\"Naive Bayes Classifier Result word on Train\")\r\n",
        "print(classification_report(nbClassifier.predict(x_tf_train) , y_train))"
      ],
      "execution_count": null,
      "outputs": [
        {
          "output_type": "stream",
          "text": [
            "Naive Bayes Classifier Result word on Train\n",
            "              precision    recall  f1-score   support\n",
            "\n",
            "           0       0.75      1.00      0.86      1246\n",
            "           1       0.00      0.00      0.00         0\n",
            "           2       0.00      0.00      0.00         0\n",
            "           3       0.00      0.00      0.00         0\n",
            "           4       0.00      0.00      0.00         0\n",
            "           5       0.00      0.00      0.00         0\n",
            "           6       0.00      0.00      0.00         0\n",
            "           7       0.00      0.00      0.00         0\n",
            "           8       0.00      0.00      0.00         0\n",
            "           9       0.00      0.00      0.00         0\n",
            "          10       0.00      0.00      0.00         0\n",
            "          11       0.00      0.00      0.00         0\n",
            "          12       0.03      1.00      0.05         5\n",
            "          13       0.00      0.00      0.00         0\n",
            "          14       0.00      0.00      0.00         0\n",
            "          15       0.00      0.00      0.00         0\n",
            "          16       0.00      0.00      0.00         0\n",
            "          17       0.08      1.00      0.16        33\n",
            "          18       0.00      0.00      0.00         0\n",
            "          19       0.00      0.00      0.00         0\n",
            "          20       0.00      0.00      0.00         0\n",
            "          21       0.88      1.00      0.94      2542\n",
            "          22       0.00      0.00      0.00         0\n",
            "          23       0.00      0.00      0.00         0\n",
            "          24       0.00      0.00      0.00         0\n",
            "          25       0.00      0.00      0.00         0\n",
            "          26       0.09      1.00      0.16        37\n",
            "          27       0.00      0.00      0.00         0\n",
            "          28       0.00      0.00      0.00         0\n",
            "          29       0.00      0.00      0.00         0\n",
            "          30       0.00      0.00      0.00         0\n",
            "          31       0.00      0.00      0.00         0\n",
            "          32       0.00      0.00      0.00         0\n",
            "          33       0.00      0.00      0.00         0\n",
            "          34       0.00      0.00      0.00         0\n",
            "          35       0.00      0.00      0.00         0\n",
            "          36       0.00      0.00      0.00         0\n",
            "          37       0.00      0.00      0.00         0\n",
            "          38       0.00      0.00      0.00         0\n",
            "          39       0.00      0.00      0.00         0\n",
            "          40       0.00      0.00      0.00         0\n",
            "          41       0.00      0.00      0.00         0\n",
            "          42       0.00      0.00      0.00         0\n",
            "          43       0.00      0.00      0.00         0\n",
            "          44       0.00      0.00      0.00         0\n",
            "          45       0.00      0.00      0.00         0\n",
            "          46       0.15      0.98      0.26        81\n",
            "          47       0.00      0.00      0.00         0\n",
            "          48       0.00      0.00      0.00         0\n",
            "          49       0.00      0.00      0.00         0\n",
            "          50       0.00      0.00      0.00         0\n",
            "          51       0.00      0.00      0.00         0\n",
            "          52       0.00      0.00      0.00         0\n",
            "          53       0.00      0.00      0.00         0\n",
            "          54       0.00      0.00      0.00         0\n",
            "          55       0.00      0.00      0.00         0\n",
            "          56       0.00      0.00      0.00         0\n",
            "          57       0.00      0.00      0.00         0\n",
            "          58       0.00      0.00      0.00         0\n",
            "          59       0.00      0.00      0.00         0\n",
            "          60       0.00      0.00      0.00         0\n",
            "          61       0.00      0.00      0.00         0\n",
            "          62       0.00      0.00      0.00         0\n",
            "          63       0.00      0.00      0.00         0\n",
            "          64       0.00      0.00      0.00         0\n",
            "          65       0.00      0.00      0.00         0\n",
            "          66       0.00      0.00      0.00         0\n",
            "          67       0.00      0.00      0.00         0\n",
            "          68       0.00      0.00      0.00         0\n",
            "          69       0.00      0.00      0.00         0\n",
            "          70       0.00      0.00      0.00         0\n",
            "          71       0.01      1.00      0.01         1\n",
            "          72       0.00      0.00      0.00         0\n",
            "          73       0.00      0.00      0.00         0\n",
            "          74       0.00      0.00      0.00         0\n",
            "          75       0.00      0.00      0.00         0\n",
            "          76       0.00      0.00      0.00         0\n",
            "          77       0.00      0.00      0.00         0\n",
            "          78       0.00      0.00      0.00         0\n",
            "          79       0.00      0.00      0.00         0\n",
            "          80       0.00      0.00      0.00         0\n",
            "          81       0.00      0.00      0.00         0\n",
            "          82       0.00      0.00      0.00         0\n",
            "          83       0.00      0.00      0.00         0\n",
            "          84       0.01      1.00      0.01         2\n",
            "          85       0.00      0.00      0.00         0\n",
            "          86       0.00      0.00      0.00         0\n",
            "          87       0.00      0.00      0.00         0\n",
            "          88       0.00      0.00      0.00         0\n",
            "          89       0.00      0.00      0.00         0\n",
            "\n",
            "   micro avg       0.41      1.00      0.58      3947\n",
            "   macro avg       0.02      0.09      0.03      3947\n",
            "weighted avg       0.81      1.00      0.88      3947\n",
            " samples avg       0.50      0.51      0.50      3947\n",
            "\n"
          ],
          "name": "stdout"
        },
        {
          "output_type": "stream",
          "text": [
            "/usr/local/lib/python3.6/dist-packages/sklearn/metrics/_classification.py:1272: UndefinedMetricWarning: Recall and F-score are ill-defined and being set to 0.0 in labels with no true samples. Use `zero_division` parameter to control this behavior.\n",
            "  _warn_prf(average, modifier, msg_start, len(result))\n",
            "/usr/local/lib/python3.6/dist-packages/sklearn/metrics/_classification.py:1272: UndefinedMetricWarning: Recall and F-score are ill-defined and being set to 0.0 in samples with no true labels. Use `zero_division` parameter to control this behavior.\n",
            "  _warn_prf(average, modifier, msg_start, len(result))\n"
          ],
          "name": "stderr"
        }
      ]
    },
    {
      "cell_type": "markdown",
      "metadata": {
        "id": "N3vQJY3lJ94_"
      },
      "source": [
        "## Classification report on testing data"
      ]
    },
    {
      "cell_type": "code",
      "metadata": {
        "id": "kNJG9dDLvQuQ",
        "colab": {
          "base_uri": "https://localhost:8080/"
        },
        "outputId": "0f182a98-4fb2-4558-a81a-0849858a379b"
      },
      "source": [
        "print(\"Naive Bayes Classifier Result word on Test\")\r\n",
        "print(classification_report(nbClassifier.predict(x_tf_test) , y_test))"
      ],
      "execution_count": null,
      "outputs": [
        {
          "output_type": "stream",
          "text": [
            "Naive Bayes Classifier Result word on Test\n",
            "              precision    recall  f1-score   support\n",
            "\n",
            "           0       0.50      1.00      0.67       364\n",
            "           1       0.00      0.00      0.00         0\n",
            "           2       0.00      0.00      0.00         0\n",
            "           3       0.00      0.00      0.00         0\n",
            "           4       0.00      0.00      0.00         0\n",
            "           5       0.00      0.00      0.00         0\n",
            "           6       0.00      0.00      0.00         0\n",
            "           7       0.00      0.00      0.00         0\n",
            "           8       0.00      0.00      0.00         0\n",
            "           9       0.00      0.00      0.00         0\n",
            "          10       0.00      0.00      0.00         0\n",
            "          11       0.00      0.00      0.00         0\n",
            "          12       0.05      1.00      0.10         3\n",
            "          13       0.00      0.00      0.00         0\n",
            "          14       0.00      0.00      0.00         0\n",
            "          15       0.00      0.00      0.00         0\n",
            "          16       0.00      0.00      0.00         0\n",
            "          17       0.06      1.00      0.11        11\n",
            "          18       0.00      0.00      0.00         0\n",
            "          19       0.00      0.00      0.00         0\n",
            "          20       0.00      0.00      0.00         0\n",
            "          21       0.93      1.00      0.96      1008\n",
            "          22       0.00      0.00      0.00         0\n",
            "          23       0.00      0.00      0.00         0\n",
            "          24       0.00      0.00      0.00         0\n",
            "          25       0.00      0.00      0.00         0\n",
            "          26       0.05      1.00      0.09         7\n",
            "          27       0.00      0.00      0.00         0\n",
            "          28       0.00      0.00      0.00         0\n",
            "          29       0.00      0.00      0.00         0\n",
            "          30       0.00      0.00      0.00         0\n",
            "          31       0.00      0.00      0.00         0\n",
            "          32       0.00      0.00      0.00         0\n",
            "          33       0.00      0.00      0.00         0\n",
            "          34       0.00      0.00      0.00         0\n",
            "          35       0.00      0.00      0.00         0\n",
            "          36       0.00      0.00      0.00         0\n",
            "          37       0.00      0.00      0.00         0\n",
            "          38       0.00      0.00      0.00         0\n",
            "          39       0.00      0.00      0.00         0\n",
            "          40       0.00      0.00      0.00         0\n",
            "          41       0.00      0.00      0.00         0\n",
            "          42       0.00      0.00      0.00         0\n",
            "          43       0.00      0.00      0.00         0\n",
            "          44       0.00      0.00      0.00         0\n",
            "          45       0.00      0.00      0.00         0\n",
            "          46       0.06      1.00      0.12        11\n",
            "          47       0.00      0.00      0.00         0\n",
            "          48       0.00      0.00      0.00         0\n",
            "          49       0.00      0.00      0.00         0\n",
            "          50       0.00      0.00      0.00         0\n",
            "          51       0.00      0.00      0.00         0\n",
            "          52       0.00      0.00      0.00         0\n",
            "          53       0.00      0.00      0.00         0\n",
            "          54       0.00      0.00      0.00         0\n",
            "          55       0.00      0.00      0.00         0\n",
            "          56       0.00      0.00      0.00         0\n",
            "          57       0.00      0.00      0.00         0\n",
            "          58       0.00      0.00      0.00         0\n",
            "          59       0.00      0.00      0.00         0\n",
            "          60       0.00      0.00      0.00         0\n",
            "          61       0.00      0.00      0.00         0\n",
            "          62       0.00      0.00      0.00         0\n",
            "          63       0.00      0.00      0.00         0\n",
            "          64       0.00      0.00      0.00         0\n",
            "          65       0.00      0.00      0.00         0\n",
            "          66       0.00      0.00      0.00         0\n",
            "          67       0.00      0.00      0.00         0\n",
            "          68       0.00      0.00      0.00         0\n",
            "          69       0.00      0.00      0.00         0\n",
            "          70       0.00      0.00      0.00         0\n",
            "          71       0.00      0.00      0.00         0\n",
            "          72       0.00      0.00      0.00         0\n",
            "          73       0.00      0.00      0.00         0\n",
            "          74       0.00      0.00      0.00         0\n",
            "          75       0.00      0.00      0.00         0\n",
            "          76       0.00      0.00      0.00         0\n",
            "          77       0.00      0.00      0.00         0\n",
            "          78       0.00      0.00      0.00         0\n",
            "          79       0.00      0.00      0.00         0\n",
            "          80       0.00      0.00      0.00         0\n",
            "          81       0.00      0.00      0.00         0\n",
            "          82       0.00      0.00      0.00         0\n",
            "          83       0.00      0.00      0.00         0\n",
            "          84       0.00      0.00      0.00         0\n",
            "          85       0.00      0.00      0.00         0\n",
            "          86       0.00      0.00      0.00         0\n",
            "          87       0.00      0.00      0.00         0\n",
            "          88       0.00      0.00      0.00         0\n",
            "          89       0.00      0.00      0.00         0\n",
            "\n",
            "   micro avg       0.37      1.00      0.54      1404\n",
            "   macro avg       0.02      0.07      0.02      1404\n",
            "weighted avg       0.80      1.00      0.87      1404\n",
            " samples avg       0.46      0.46      0.46      1404\n",
            "\n"
          ],
          "name": "stdout"
        },
        {
          "output_type": "stream",
          "text": [
            "/usr/local/lib/python3.6/dist-packages/sklearn/metrics/_classification.py:1272: UndefinedMetricWarning: Recall and F-score are ill-defined and being set to 0.0 in labels with no true samples. Use `zero_division` parameter to control this behavior.\n",
            "  _warn_prf(average, modifier, msg_start, len(result))\n",
            "/usr/local/lib/python3.6/dist-packages/sklearn/metrics/_classification.py:1272: UndefinedMetricWarning: Recall and F-score are ill-defined and being set to 0.0 in samples with no true labels. Use `zero_division` parameter to control this behavior.\n",
            "  _warn_prf(average, modifier, msg_start, len(result))\n"
          ],
          "name": "stderr"
        }
      ]
    },
    {
      "cell_type": "code",
      "metadata": {
        "id": "SLkoBsAAvadL"
      },
      "source": [
        ""
      ],
      "execution_count": null,
      "outputs": []
    }
  ]
}