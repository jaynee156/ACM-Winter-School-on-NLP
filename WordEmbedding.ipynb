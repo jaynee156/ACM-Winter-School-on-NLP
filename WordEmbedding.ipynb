{
  "nbformat": 4,
  "nbformat_minor": 0,
  "metadata": {
    "colab": {
      "name": "335_WordEmbedding.ipynb",
      "provenance": []
    },
    "kernelspec": {
      "display_name": "Python 3",
      "name": "python3"
    }
  },
  "cells": [
    {
      "cell_type": "code",
      "metadata": {
        "colab": {
          "base_uri": "https://localhost:8080/"
        },
        "id": "gWLYYoRaVuCX",
        "outputId": "3f9d78a9-21b3-400c-dd3b-421dc272b135"
      },
      "source": [
        "!wget http://mattmahoney.net/dc/text8.zip -O text8.gz\r\n",
        "!gzip -d text8.gz -f"
      ],
      "execution_count": null,
      "outputs": [
        {
          "output_type": "stream",
          "text": [
            "--2021-01-12 07:57:35--  http://mattmahoney.net/dc/text8.zip\n",
            "Resolving mattmahoney.net (mattmahoney.net)... 67.195.197.24\n",
            "Connecting to mattmahoney.net (mattmahoney.net)|67.195.197.24|:80... connected.\n",
            "HTTP request sent, awaiting response... 200 OK\n",
            "Length: 31344016 (30M) [application/zip]\n",
            "Saving to: ‘text8.gz’\n",
            "\n",
            "text8.gz            100%[===================>]  29.89M  3.63MB/s    in 8.3s    \n",
            "\n",
            "2021-01-12 07:57:43 (3.60 MB/s) - ‘text8.gz’ saved [31344016/31344016]\n",
            "\n"
          ],
          "name": "stdout"
        }
      ]
    },
    {
      "cell_type": "code",
      "metadata": {
        "id": "VMwFfERyV6gZ"
      },
      "source": [
        "import gensim"
      ],
      "execution_count": null,
      "outputs": []
    },
    {
      "cell_type": "code",
      "metadata": {
        "id": "zto6hUzjWQgb"
      },
      "source": [
        "from gensim import utils\r\n",
        "\r\n",
        "with open('/content/text8','r') as file:\r\n",
        "  documents = file.readlines()\r\n",
        "\r\n",
        "class MyCorpus(object):\r\n",
        "    def __iter__(self): \r\n",
        "        for line in documents:\r\n",
        "            yield utils.simple_preprocess(line)"
      ],
      "execution_count": null,
      "outputs": []
    },
    {
      "cell_type": "code",
      "metadata": {
        "id": "xUFp2yT9WXkm"
      },
      "source": [
        "import gensim.models\r\n",
        "sentences = MyCorpus()\r\n",
        "skipGramModel = gensim.models.Word2Vec(sentences=sentences,sg = 1,window = 10,min_count = 5,workers=16,iter = 50)"
      ],
      "execution_count": null,
      "outputs": []
    },
    {
      "cell_type": "code",
      "metadata": {
        "colab": {
          "base_uri": "https://localhost:8080/"
        },
        "id": "Bzakzl2YXokC",
        "outputId": "dceca054-68f4-490b-d591-f4b9bd515b68"
      },
      "source": [
        "len(skipGramModel.wv.vocab.keys())"
      ],
      "execution_count": null,
      "outputs": [
        {
          "output_type": "execute_result",
          "data": {
            "text/plain": [
              "70965"
            ]
          },
          "metadata": {
            "tags": []
          },
          "execution_count": 7
        }
      ]
    },
    {
      "cell_type": "code",
      "metadata": {
        "colab": {
          "base_uri": "https://localhost:8080/"
        },
        "id": "QwPPSVt5atqu",
        "outputId": "a8e6324e-ac34-41ea-f825-7267bedaaff7"
      },
      "source": [
        "# get vector for a word\r\n",
        "skipGramModel.wv.get_vector('queen')"
      ],
      "execution_count": null,
      "outputs": [
        {
          "output_type": "execute_result",
          "data": {
            "text/plain": [
              "array([ 0.00379926, -0.00365303, -0.00485859, -0.00381751,  0.00398482,\n",
              "       -0.00156946,  0.00312169,  0.00417029,  0.00256417, -0.00243892,\n",
              "       -0.00376544,  0.00242612, -0.00310354,  0.00269583, -0.00236271,\n",
              "       -0.00089102, -0.00231842, -0.00320673, -0.00036395,  0.00253618,\n",
              "        0.00229684,  0.00429076,  0.0031069 , -0.00312891,  0.00317175,\n",
              "        0.00358715,  0.00083871, -0.00150055,  0.00296903,  0.00102916,\n",
              "       -0.00016341,  0.00473857, -0.00375922, -0.0049835 , -0.00223353,\n",
              "        0.00183913, -0.00289938, -0.00082163,  0.00143184, -0.00253263,\n",
              "        0.00089331, -0.00439915, -0.00337602, -0.00493809,  0.00064091,\n",
              "       -0.00093129,  0.00192217,  0.00320136,  0.00074699,  0.00108867,\n",
              "       -0.0047293 ,  0.00275835, -0.00019933,  0.00474721,  0.00213314,\n",
              "        0.0009826 ,  0.00125888, -0.00498048, -0.0039318 ,  0.00254852,\n",
              "        0.00381567,  0.00116472, -0.00192516,  0.00246044,  0.00471133,\n",
              "       -0.00330608, -0.00300637,  0.0025743 , -0.00377395,  0.00344149,\n",
              "        0.00324072,  0.00086266, -0.00166972,  0.00404698, -0.00090223,\n",
              "        0.00163193,  0.00263685, -0.00473501, -0.00190665,  0.00291767,\n",
              "       -0.00475307, -0.00475117,  0.00024645,  0.00422451,  0.00449254,\n",
              "       -0.00350826,  0.00092477, -0.00276983,  0.00393229,  0.00326217,\n",
              "        0.00306344,  0.00324036,  0.00077878,  0.0004888 ,  0.00348678,\n",
              "        0.00261254, -0.0019732 ,  0.00161348,  0.00415489, -0.00100717],\n",
              "      dtype=float32)"
            ]
          },
          "metadata": {
            "tags": []
          },
          "execution_count": 9
        }
      ]
    },
    {
      "cell_type": "code",
      "metadata": {
        "colab": {
          "base_uri": "https://localhost:8080/"
        },
        "id": "mYYaCEZFazvC",
        "outputId": "961511f8-5646-4bae-9c68-5a19e2cb3973"
      },
      "source": [
        "skipGramModel.wv.most_similar('king',topn=5)"
      ],
      "execution_count": null,
      "outputs": [
        {
          "output_type": "execute_result",
          "data": {
            "text/plain": [
              "[('ruler', 0.992714524269104),\n",
              " ('chief', 0.9915900230407715),\n",
              " ('archons', 0.990563690662384),\n",
              " ('derived', 0.9769951105117798),\n",
              " ('disobedience', 0.9720355272293091)]"
            ]
          },
          "metadata": {
            "tags": []
          },
          "execution_count": 13
        }
      ]
    },
    {
      "cell_type": "code",
      "metadata": {
        "colab": {
          "base_uri": "https://localhost:8080/"
        },
        "id": "KHH0q6zXeYN0",
        "outputId": "2cf07b08-7c9c-466b-a462-e142a42215d5"
      },
      "source": [
        "skipGramModel.wv.most_similar('queen',topn=2)"
      ],
      "execution_count": null,
      "outputs": [
        {
          "output_type": "execute_result",
          "data": {
            "text/plain": [
              "[('glandular', 0.4237639307975769), ('niddah', 0.3932459354400635)]"
            ]
          },
          "metadata": {
            "tags": []
          },
          "execution_count": 20
        }
      ]
    },
    {
      "cell_type": "code",
      "metadata": {
        "colab": {
          "base_uri": "https://localhost:8080/"
        },
        "id": "dNvL6gfia7rj",
        "outputId": "02633722-ff79-4c5e-f67c-c28093755ce3"
      },
      "source": [
        "import gensim.downloader as api\r\n",
        "\r\n",
        "model = api.load('word2vec-google-news-300')"
      ],
      "execution_count": null,
      "outputs": [
        {
          "output_type": "stream",
          "text": [
            "[=================================================-] 100.0% 1662.4/1662.8MB downloaded\n"
          ],
          "name": "stdout"
        }
      ]
    },
    {
      "cell_type": "code",
      "metadata": {
        "colab": {
          "base_uri": "https://localhost:8080/"
        },
        "id": "rYtmA7zabKsc",
        "outputId": "59fbf29a-7ac6-4e3c-b0f7-52aaf05140c7"
      },
      "source": [
        "import sklearn\r\n",
        "from sklearn.metrics.pairwise import cosine_similarity\r\n",
        "\r\n",
        "def get_word_similarity(word_1,word_2,model):\r\n",
        "  word_1_vector = model.get_vector(word_1)\r\n",
        "  word_2_vector = model.get_vector(word_2)\r\n",
        "\r\n",
        "  similarity = cosine_similarity(word_1_vector.reshape(1,-1),word_2_vector.reshape(1,-1))[0][0]\r\n",
        "  return similarity\r\n",
        "\r\n",
        "print(\"*\"*60)\r\n",
        "print('Similarity between {} and {} is {}'.format('easy','easiest',get_word_similarity('easy','easiest',model)))\r\n",
        "print('Similarity between {} and {} is {}'.format('easy','difficult',get_word_similarity('easy','difficult',model)))\r\n",
        "print(\"*\"*60)\r\n",
        "\r\n",
        "print('Similarity between {} and {} is {}'.format('india','rupee',get_word_similarity('india','rupee',model)))\r\n",
        "print('Similarity between {} and {} is {}'.format('india','dollar',get_word_similarity('india','dollar',model)))\r\n",
        "print(\"*\"*60)\r\n",
        "\r\n",
        "print('Similarity between {} and {} is {}'.format('mouse','mice',get_word_similarity('mouse','mice',model)))\r\n",
        "print('Similarity between {} and {} is {}'.format('mouse','cat',get_word_similarity('mouse','cat',model)))\r\n",
        "print(\"*\"*60)"
      ],
      "execution_count": null,
      "outputs": [
        {
          "output_type": "stream",
          "text": [
            "************************************************************\n",
            "Similarity between easy and easiest is 0.6109095811843872\n",
            "Similarity between easy and difficult is 0.5890915989875793\n",
            "************************************************************\n",
            "Similarity between india and rupee is 0.3253573477268219\n",
            "Similarity between india and dollar is 0.11032233387231827\n",
            "************************************************************\n",
            "Similarity between mouse and mice is 0.5896884799003601\n",
            "Similarity between mouse and cat is 0.46566274762153625\n",
            "************************************************************\n"
          ],
          "name": "stdout"
        }
      ]
    },
    {
      "cell_type": "markdown",
      "metadata": {
        "id": "bzC6y6xIcsaS"
      },
      "source": [
        "Word similarity using Word2Vec Skipgram model that has been trained on the corpus"
      ]
    },
    {
      "cell_type": "code",
      "metadata": {
        "id": "aRt9xrPbddcu"
      },
      "source": [
        "def word_similarity(word_1,word_2,model):\r\n",
        "  try:\r\n",
        "    word_1_vector = model.wv.get_vector(word_1)\r\n",
        "    word_2_vector = model.wv.get_vector(word_2)\r\n",
        "    similarity = cosine_similarity(word_1_vector.reshape(1,-1),word_2_vector.reshape(1,-1))\r\n",
        "    return similarity\r\n",
        "  except:\r\n",
        "    return None\r\n"
      ],
      "execution_count": null,
      "outputs": []
    },
    {
      "cell_type": "code",
      "metadata": {
        "colab": {
          "base_uri": "https://localhost:8080/"
        },
        "id": "27F9opPAcrgq",
        "outputId": "6bd51488-d9e2-45c2-8246-0afdadbece06"
      },
      "source": [
        "print(\"*\"*60)\r\n",
        "print('Similarity between {} and {} is {}'.format('king','cabbage',word_similarity('king','cabbage',skipGramModel)))\r\n",
        "print('Similarity between {} and {} is {}'.format('ruler','chief',word_similarity('ruler','chief',skipGramModel)))\r\n",
        "print(\"*\"*60)\r\n",
        "\r\n",
        "print('Similarity between {} and {} is {}'.format('queen','niddah',word_similarity('queen','niddah',skipGramModel)))\r\n",
        "print('Similarity between {} and {} is {}'.format('woman','queen',word_similarity('woman','queen',skipGramModel)))\r\n",
        "print(\"*\"*60)"
      ],
      "execution_count": null,
      "outputs": [
        {
          "output_type": "stream",
          "text": [
            "************************************************************\n",
            "Similarity between king and cabbage is [[-0.02135335]]\n",
            "Similarity between ruler and chief is [[0.9968078]]\n",
            "************************************************************\n",
            "Similarity between queen and niddah is [[0.39324588]]\n",
            "Similarity between woman and queen is [[-0.00060604]]\n",
            "************************************************************\n"
          ],
          "name": "stdout"
        }
      ]
    },
    {
      "cell_type": "markdown",
      "metadata": {
        "id": "s41gnfzNh8Nx"
      },
      "source": [
        "Reference goldstandard dataset"
      ]
    },
    {
      "cell_type": "code",
      "metadata": {
        "id": "ApX3weHeiG8L",
        "colab": {
          "resources": {
            "http://localhost:8080/nbextensions/google.colab/files.js": {
              "data": "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",
              "ok": true,
              "headers": [
                [
                  "content-type",
                  "application/javascript"
                ]
              ],
              "status": 200,
              "status_text": ""
            }
          },
          "base_uri": "https://localhost:8080/",
          "height": 72
        },
        "outputId": "4785f6fe-0676-4e88-ee2a-adf6dfd590f3"
      },
      "source": [
        "from google.colab import files \r\n",
        "  \r\n",
        "  \r\n",
        "uploaded = files.upload()"
      ],
      "execution_count": null,
      "outputs": [
        {
          "output_type": "display_data",
          "data": {
            "text/html": [
              "\n",
              "     <input type=\"file\" id=\"files-0bc0e12d-a65f-458a-8eb9-0f9c438b654c\" name=\"files[]\" multiple disabled\n",
              "        style=\"border:none\" />\n",
              "     <output id=\"result-0bc0e12d-a65f-458a-8eb9-0f9c438b654c\">\n",
              "      Upload widget is only available when the cell has been executed in the\n",
              "      current browser session. Please rerun this cell to enable.\n",
              "      </output>\n",
              "      <script src=\"/nbextensions/google.colab/files.js\"></script> "
            ],
            "text/plain": [
              "<IPython.core.display.HTML object>"
            ]
          },
          "metadata": {
            "tags": []
          }
        },
        {
          "output_type": "stream",
          "text": [
            "Saving wordsim_similarity_goldstandard.txt to wordsim_similarity_goldstandard (1).txt\n"
          ],
          "name": "stdout"
        }
      ]
    },
    {
      "cell_type": "code",
      "metadata": {
        "id": "Mcno8nMliHxj",
        "colab": {
          "base_uri": "https://localhost:8080/",
          "height": 204
        },
        "outputId": "b4e822b9-b9f8-4433-aba6-76ff71a55266"
      },
      "source": [
        "import pandas as pd \r\n",
        "import io \r\n",
        "\r\n",
        "df=pd.read_csv('wordsim_similarity_goldstandard (1).txt', sep='\\t',index_col=None)\r\n",
        "df.head()\r\n"
      ],
      "execution_count": null,
      "outputs": [
        {
          "output_type": "execute_result",
          "data": {
            "text/html": [
              "<div>\n",
              "<style scoped>\n",
              "    .dataframe tbody tr th:only-of-type {\n",
              "        vertical-align: middle;\n",
              "    }\n",
              "\n",
              "    .dataframe tbody tr th {\n",
              "        vertical-align: top;\n",
              "    }\n",
              "\n",
              "    .dataframe thead th {\n",
              "        text-align: right;\n",
              "    }\n",
              "</style>\n",
              "<table border=\"1\" class=\"dataframe\">\n",
              "  <thead>\n",
              "    <tr style=\"text-align: right;\">\n",
              "      <th></th>\n",
              "      <th>word1</th>\n",
              "      <th>word2</th>\n",
              "      <th>ref score</th>\n",
              "    </tr>\n",
              "  </thead>\n",
              "  <tbody>\n",
              "    <tr>\n",
              "      <th>0</th>\n",
              "      <td>tiger</td>\n",
              "      <td>cat</td>\n",
              "      <td>7.35</td>\n",
              "    </tr>\n",
              "    <tr>\n",
              "      <th>1</th>\n",
              "      <td>tiger</td>\n",
              "      <td>tiger</td>\n",
              "      <td>10.00</td>\n",
              "    </tr>\n",
              "    <tr>\n",
              "      <th>2</th>\n",
              "      <td>plane</td>\n",
              "      <td>car</td>\n",
              "      <td>5.77</td>\n",
              "    </tr>\n",
              "    <tr>\n",
              "      <th>3</th>\n",
              "      <td>train</td>\n",
              "      <td>car</td>\n",
              "      <td>6.31</td>\n",
              "    </tr>\n",
              "    <tr>\n",
              "      <th>4</th>\n",
              "      <td>television</td>\n",
              "      <td>radio</td>\n",
              "      <td>6.77</td>\n",
              "    </tr>\n",
              "  </tbody>\n",
              "</table>\n",
              "</div>"
            ],
            "text/plain": [
              "        word1  word2  ref score\n",
              "0       tiger    cat       7.35\n",
              "1       tiger  tiger      10.00\n",
              "2       plane    car       5.77\n",
              "3       train    car       6.31\n",
              "4  television  radio       6.77"
            ]
          },
          "metadata": {
            "tags": []
          },
          "execution_count": 46
        }
      ]
    },
    {
      "cell_type": "markdown",
      "metadata": {
        "id": "jaaoWfBqgKEn"
      },
      "source": [
        "FastText Word Embeddings"
      ]
    },
    {
      "cell_type": "code",
      "metadata": {
        "colab": {
          "base_uri": "https://localhost:8080/"
        },
        "id": "LkUTiHiUgP2c",
        "outputId": "5065b395-5aa9-4d45-e206-e123b38f4085"
      },
      "source": [
        "!pip install fasttext"
      ],
      "execution_count": null,
      "outputs": [
        {
          "output_type": "stream",
          "text": [
            "Collecting fasttext\n",
            "\u001b[?25l  Downloading https://files.pythonhosted.org/packages/f8/85/e2b368ab6d3528827b147fdb814f8189acc981a4bc2f99ab894650e05c40/fasttext-0.9.2.tar.gz (68kB)\n",
            "\r\u001b[K     |████▊                           | 10kB 29.6MB/s eta 0:00:01\r\u001b[K     |█████████▌                      | 20kB 33.9MB/s eta 0:00:01\r\u001b[K     |██████████████▎                 | 30kB 20.4MB/s eta 0:00:01\r\u001b[K     |███████████████████             | 40kB 17.1MB/s eta 0:00:01\r\u001b[K     |███████████████████████▉        | 51kB 12.9MB/s eta 0:00:01\r\u001b[K     |████████████████████████████▋   | 61kB 13.7MB/s eta 0:00:01\r\u001b[K     |████████████████████████████████| 71kB 6.6MB/s \n",
            "\u001b[?25hRequirement already satisfied: pybind11>=2.2 in /usr/local/lib/python3.6/dist-packages (from fasttext) (2.6.1)\n",
            "Requirement already satisfied: setuptools>=0.7.0 in /usr/local/lib/python3.6/dist-packages (from fasttext) (51.1.1)\n",
            "Requirement already satisfied: numpy in /usr/local/lib/python3.6/dist-packages (from fasttext) (1.19.5)\n",
            "Building wheels for collected packages: fasttext\n",
            "  Building wheel for fasttext (setup.py) ... \u001b[?25l\u001b[?25hdone\n",
            "  Created wheel for fasttext: filename=fasttext-0.9.2-cp36-cp36m-linux_x86_64.whl size=3040518 sha256=54bd1ab8f12b0084fa25f64bd608b584aa611fe8af599af763c4d4380c2d01a8\n",
            "  Stored in directory: /root/.cache/pip/wheels/98/ba/7f/b154944a1cf5a8cee91c154b75231136cc3a3321ab0e30f592\n",
            "Successfully built fasttext\n",
            "Installing collected packages: fasttext\n",
            "Successfully installed fasttext-0.9.2\n"
          ],
          "name": "stdout"
        }
      ]
    },
    {
      "cell_type": "code",
      "metadata": {
        "colab": {
          "background_save": true
        },
        "id": "FDqByUwdgaf-"
      },
      "source": [
        "import fasttext\r\n",
        "fassttext_model = fasttext.train_unsupervised(input = '/content/text8',ws = 5,model = 'skipgram',dim = 100,epoch = 5)"
      ],
      "execution_count": null,
      "outputs": []
    },
    {
      "cell_type": "markdown",
      "metadata": {
        "id": "SNn74YHGgooM"
      },
      "source": [
        "Word Similarity using FastText Model"
      ]
    },
    {
      "cell_type": "code",
      "metadata": {
        "id": "Jfqk2wungjXb",
        "colab": {
          "base_uri": "https://localhost:8080/"
        },
        "outputId": "5aa6e3b5-14e4-4d13-91b0-bc3258dbc5b2"
      },
      "source": [
        "from sklearn.metrics.pairwise import cosine_similarity\r\n",
        "\r\n",
        "def get_similarity(word_1,word_2,model):\r\n",
        "  try:\r\n",
        "    word_1_vector = model.get_word_vector(word_1)\r\n",
        "    word_2_vector = model.get_word_vector(word_2)\r\n",
        "    similarity = cosine_similarity(word_1_vector.reshape(1,-1),word_2_vector.reshape(1,-1))[0][0]\r\n",
        "    return similarity\r\n",
        "  catch:\r\n",
        "  return None\r\n",
        "\r\n",
        "print(\"*\"*60)\r\n",
        "print('Similarity between {} and {} is {}'.format('king','queen',get_similarity('queen','chief',fassttext_model)))\r\n",
        "print('Similarity between {} and {} is {}'.format('queen','chief',get_similarity('queen','chief',fassttext_model)))\r\n",
        "print(\"*\"*60)\r\n",
        "\r\n",
        "print('Similarity between {} and {} is {}'.format('king','chief',get_similarity('kind','chief',fassttext_model)))\r\n",
        "print('Similarity between {} and {} is {}'.format('king','disobidience',get_similarity('king','disobidience',fassttext_model)))\r\n",
        "print(\"*\"*60)"
      ],
      "execution_count": null,
      "outputs": [
        {
          "output_type": "stream",
          "text": [
            "************************************************************\n",
            "Similarity between king and queen is 0.6396832466125488\n",
            "Similarity between queen and chief is 0.3760635256767273\n",
            "************************************************************\n",
            "Similarity between king and chief is 0.24939285218715668\n",
            "Similarity between king and disobidience is 0.40295296907424927\n",
            "************************************************************\n"
          ],
          "name": "stdout"
        }
      ]
    }
  ]
}